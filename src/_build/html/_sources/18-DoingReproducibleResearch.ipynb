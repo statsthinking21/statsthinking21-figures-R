{
 "cells": [
  {
   "cell_type": "markdown",
   "id": "add139b1",
   "metadata": {},
   "source": [
    "# Chapter 18: Doing reproducible research"
   ]
  },
  {
   "cell_type": "code",
   "execution_count": 1,
   "id": "175a7b49",
   "metadata": {
    "Rmd_chunk_options": "echo=FALSE,warning=FALSE,message=FALSE",
    "jupyter": {
     "output_hidden": false
    },
    "kernel": "R",
    "tags": [
     "report_output"
    ]
   },
   "outputs": [
    {
     "name": "stderr",
     "output_type": "stream",
     "text": [
      "── \u001b[1mAttaching packages\u001b[22m ─────────────────────────────────────── tidyverse 1.3.2 ──\n",
      "\u001b[32m✔\u001b[39m \u001b[34mggplot2\u001b[39m 3.4.1     \u001b[32m✔\u001b[39m \u001b[34mpurrr  \u001b[39m 1.0.1\n",
      "\u001b[32m✔\u001b[39m \u001b[34mtibble \u001b[39m 3.1.8     \u001b[32m✔\u001b[39m \u001b[34mdplyr  \u001b[39m 1.1.0\n",
      "\u001b[32m✔\u001b[39m \u001b[34mtidyr  \u001b[39m 1.3.0     \u001b[32m✔\u001b[39m \u001b[34mstringr\u001b[39m 1.5.0\n",
      "\u001b[32m✔\u001b[39m \u001b[34mreadr  \u001b[39m 2.1.4     \u001b[32m✔\u001b[39m \u001b[34mforcats\u001b[39m 1.0.0\n",
      "── \u001b[1mConflicts\u001b[22m ────────────────────────────────────────── tidyverse_conflicts() ──\n",
      "\u001b[31m✖\u001b[39m \u001b[34mdplyr\u001b[39m::\u001b[32mfilter()\u001b[39m masks \u001b[34mstats\u001b[39m::filter()\n",
      "\u001b[31m✖\u001b[39m \u001b[34mdplyr\u001b[39m::\u001b[32mlag()\u001b[39m    masks \u001b[34mstats\u001b[39m::lag()\n"
     ]
    }
   ],
   "source": [
    "library(tidyverse)\n",
    "library(ggplot2)\n",
    "library(cowplot)\n",
    "\n",
    "set.seed(123456) # set random seed to exactly replicate results\n",
    "\n",
    "# setup colorblind palette\n",
    "# from http://www.cookbook-r.com/Graphs/Colors_(ggplot2)/#a-colorblind-friendly-palette\n",
    "# The palette with grey:\n",
    "cbPalette <- c(\"#999999\", \"#E69F00\", \"#56B4E9\", \"#009E73\", \"#F0E442\", \"#0072B2\", \"#D55E00\", \"#CC79A7\")"
   ]
  },
  {
   "cell_type": "markdown",
   "id": "0f828cdd",
   "metadata": {},
   "source": [
    "### Figure 1"
   ]
  },
  {
   "cell_type": "code",
   "execution_count": 2,
   "id": "47032a07",
   "metadata": {
    "Rmd_chunk_options": "PPVsim, echo=FALSE,fig.cap='A simulation of posterior predictive value as a function of statistical power (plotted on the x axis) and prior probability of the hypothesis being true (plotted as separate lines).',fig.width=6,fig.height=4,out.height='50%'",
    "jupyter": {
     "output_hidden": false
    },
    "kernel": "R",
    "tags": [
     "report_output"
    ]
   },
   "outputs": [],
   "source": [
    "alpha=0.05  # false positive rate\n",
    "beta = seq(1.,0.05,-0.05)  # false negative rate\n",
    "powerVals = 1-beta\n",
    "priorVals=c(.01,0.1,0.5,0.9)\n",
    "\n",
    "nstudies=100\n",
    "\n",
    "df=data.frame(power=rep(powerVals,length(priorVals))) %>%\n",
    "  mutate(priorVal=kronecker(priorVals,rep(1,length(powerVals))),\n",
    "         `P(H is true)` = as.factor(priorVal),\n",
    "         alpha=alpha)\n",
    "\n",
    "\n",
    "# Positive Predictive Value (PPV) - the likelihood that a positive finding is true\n",
    "PPV = function(df) {\n",
    "  df$PPV = (df$power*df$priorVal)/(df$power*df$priorVal + df$alpha*(1-df$priorVal))\n",
    "  return(df)\n",
    "}\n",
    "\n",
    "df=PPV(df)\n",
    "ggplot(df,aes(power,PPV,linetype=`P(H is true)`)) +\n",
    "  geom_line(linewidth=1) +\n",
    "  ylim(0,1) +\n",
    "  xlim(0,1) +\n",
    "  ylab('Posterior predictive value (PPV)')"
   ]
  },
  {
   "cell_type": "markdown",
   "id": "4b6a9587",
   "metadata": {},
   "source": [
    "### Figure 2\n",
    "\n"
   ]
  },
  {
   "cell_type": "code",
   "execution_count": 3,
   "id": "292ae01f",
   "metadata": {
    "Rmd_chunk_options": "CurseSim, echo=FALSE,message=FALSE,fig.cap=\"Left: A simulation of the winner's curse as a function of statistical power (x axis). The solid line shows the estimated effect size, and the dotted line shows the actual effect size. Right: A histogram showing effect size estimates for a number of samples from a dataset, with significant results shown in blue and non-significant results in red. \",fig.width=8,fig.height=4,out.height='50%'",
    "jupyter": {
     "output_hidden": false
    },
    "kernel": "R",
    "tags": [
     "report_output"
    ]
   },
   "outputs": [],
   "source": [
    "trueEffectSize=0.2\n",
    "dfCurse=data.frame(sampSize=seq(20,300,20)) %>%\n",
    "  mutate(effectSize=trueEffectSize,\n",
    "         alpha=0.05)\n",
    "\n",
    "simCurse = function(df,nruns=1000){\n",
    "  sigResults=0\n",
    "  sigEffects=c()\n",
    "  for (i in 1:nruns){\n",
    "    tmpData=rnorm(df$sampSize,mean=df$effectSize,sd=1)\n",
    "    ttestResult=t.test(tmpData)\n",
    "    if (ttestResult$p.value<df$alpha){\n",
    "      sigResults = sigResults + 1\n",
    "      sigEffects=c(sigEffects,ttestResult$estimate)\n",
    "    }\n",
    "  }\n",
    "  df$power=sigResults/nruns\n",
    "  df$effectSizeEstimate=mean(sigEffects)\n",
    "  return(df)\n",
    "}\n",
    "\n",
    "dfCurse = dfCurse %>% group_by(sampSize) %>% do(simCurse(.))\n",
    "\n",
    "p1 <- ggplot(dfCurse,aes(power,effectSizeEstimate)) +\n",
    "  geom_line(linewidth=1) +\n",
    "  ylim(0,max(dfCurse$effectSizeEstimate)*1.2) +\n",
    "  geom_hline(yintercept = trueEffectSize,size=1,linetype='dotted',color='red') +\n",
    "  ylab('Effect size estimate')\n",
    "\n",
    "# single\n",
    "\n",
    "sampSize=60\n",
    "effectSize=0.2\n",
    "nruns=1000\n",
    "alpha=0.05\n",
    "df=data.frame(idx=seq(1,nruns)) %>%\n",
    "  mutate(pval=NA,\n",
    "         estimate=NA)\n",
    "\n",
    "for (i in 1:nruns){\n",
    "  tmpData=rnorm(sampSize,mean=effectSize,sd=1)\n",
    "  ttestResult=t.test(tmpData)\n",
    "  df$pval[i]=ttestResult$p.value\n",
    "  df$estimate[i]=ttestResult$estimate\n",
    "}\n",
    "df = df %>%\n",
    "  mutate(significant=pval<alpha) %>%\n",
    "  group_by(significant)\n",
    "\n",
    "power=mean(df$pval<alpha)\n",
    "\n",
    "meanSigEffect=mean(df$estimate[df$pval<alpha])\n",
    "\n",
    "meanTrueEffect=mean(df$estimate)\n",
    "\n",
    "p2 <- ggplot(df,aes(estimate,fill=significant)) +\n",
    "  geom_histogram(bins=50)\n",
    "\n",
    "plot_grid(p1, p2)"
   ]
  }
 ],
 "metadata": {
  "Rmd_chunk_options": {
   "output": {
    "bookdown::gitbook": {
     "includes": {
      "in_header": "google_analytics.html"
     },
     "lib_dir": "book_assets"
    },
    "html_document": "default",
    "pdf_document": "default"
   }
  },
  "kernelspec": {
   "display_name": "R",
   "language": "R",
   "name": "ir"
  },
  "language_info": {
   "codemirror_mode": "r",
   "file_extension": ".r",
   "mimetype": "text/x-r-source",
   "name": "R",
   "pygments_lexer": "r",
   "version": "4.2.0"
  }
 },
 "nbformat": 4,
 "nbformat_minor": 5
}
