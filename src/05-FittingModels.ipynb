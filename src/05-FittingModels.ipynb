{
 "cells": [
  {
   "cell_type": "markdown",
   "id": "4a7680d0",
   "metadata": {},
   "source": [
    "# Chapter 5: Fitting models to data"
   ]
  },
  {
   "cell_type": "code",
   "execution_count": null,
   "id": "d95a8fb2",
   "metadata": {
    "Rmd_chunk_options": "echo=FALSE,warning=FALSE,message=FALSE",
    "jupyter": {
     "output_hidden": false
    },
    "kernel": "R",
    "tags": [
     "report_output"
    ]
   },
   "outputs": [],
   "source": [
    "library(tidyverse)\n",
    "library(NHANES)\n",
    "library(cowplot)\n",
    "library(mapproj)\n",
    "library(pander)\n",
    "library(knitr)\n",
    "library(modelr)\n",
    "\n",
    "panderOptions('round',2)\n",
    "panderOptions('digits',7)\n",
    "theme_set(theme_minimal(base_size = 14))\n",
    "\n",
    "options(digits = 2)\n",
    "set.seed(123456) # set random seed to exactly replicate results"
   ]
  },
  {
   "cell_type": "markdown",
   "id": "4f7288ca",
   "metadata": {},
   "source": [
    "## Figure 5.1"
   ]
  },
  {
   "cell_type": "code",
   "execution_count": null,
   "id": "6f4da030",
   "metadata": {
    "Rmd_chunk_options": "childHeight,echo=FALSE,fig.cap=\"Histogram of height of children in NHANES.\",fig.width=4,fig.height=4,out.height='50%'",
    "jupyter": {
     "output_hidden": false
    },
    "kernel": "R",
    "tags": [
     "report_output"
    ]
   },
   "outputs": [],
   "source": [
    "# drop duplicated IDs within the NHANES dataset\n",
    "NHANES <-\n",
    "  NHANES %>%\n",
    "  dplyr::distinct(ID, .keep_all = TRUE)\n",
    "\n",
    "# select the appropriate children with good height measurements\n",
    "\n",
    "NHANES_child <-\n",
    "  NHANES %>%\n",
    "  drop_na(Height) %>%\n",
    "  subset(Age < 18)\n",
    "\n",
    "NHANES_child %>%\n",
    "  ggplot(aes(Height)) +\n",
    "  geom_histogram(bins = 100)"
   ]
  },
  {
   "cell_type": "markdown",
   "id": "c332e0ba",
   "metadata": {},
   "source": [
    "## Figure 5.2"
   ]
  },
  {
   "cell_type": "code",
   "execution_count": null,
   "id": "1f485210",
   "metadata": {
    "Rmd_chunk_options": "meanError, echo=FALSE,fig.cap=\"Distribution of errors from the mean.\",fig.width=4,fig.height=4,out.height='50%'",
    "jupyter": {
     "output_hidden": false
    },
    "kernel": "R",
    "tags": [
     "report_output"
    ]
   },
   "outputs": [],
   "source": [
    "# compute error compared to the mean and plot histogram\n",
    "\n",
    "error_mean <- NHANES_child$Height - mean(NHANES_child$Height)\n",
    "\n",
    "ggplot(NULL, aes(error_mean)) +\n",
    "  geom_histogram(bins = 100) +\n",
    "  xlim(-60, 60) +\n",
    "  labs(\n",
    "    x = \"Error when predicting height with mean\"\n",
    "  )"
   ]
  },
  {
   "cell_type": "markdown",
   "id": "303b62f2",
   "metadata": {},
   "source": [
    "## Figure 5.3"
   ]
  },
  {
   "cell_type": "code",
   "execution_count": null,
   "id": "28241004",
   "metadata": {
    "Rmd_chunk_options": "childHeightLine,echo=FALSE, message=FALSE, fig.cap=\"Height of children in NHANES, plotted without a model (A), with a linear model including only age (B) or age and a constant (C), and with a linear model that fits separate effects of age for males and females (D).\"",
    "jupyter": {
     "output_hidden": false
    },
    "kernel": "R",
    "tags": [
     "report_output"
    ]
   },
   "outputs": [],
   "source": [
    "# compute and print RMSE for mean and mode\n",
    "rmse_mean <- sqrt(mean(error_mean**2))\n",
    "\n",
    "# from https://www.tutorialspoint.com/r/r_mean_median_mode.htm\n",
    "getmode <- function(v) {\n",
    "   uniqv <- unique(v)\n",
    "   uniqv[which.max(tabulate(match(v, uniqv)))]\n",
    "}\n",
    "\n",
    "error_mode <- NHANES_child$Height - getmode(NHANES_child$Height)\n",
    "rmse_mode <- sqrt(mean(error_mode**2))\n",
    "\n",
    "p1 <- NHANES_child %>%\n",
    "  ggplot(aes(x = Age, y = Height)) +\n",
    "  geom_point(position = \"jitter\",size=0.05) +\n",
    "  scale_x_continuous(breaks = seq.int(0, 20, 2)) +\n",
    "  ggtitle('A: original data')\n",
    "\n",
    "lmResultHeightOnly <- lm(Height ~ Age + 0, data=NHANES_child)\n",
    "rmse_heightOnly <- sqrt(mean(lmResultHeightOnly$residuals**2))\n",
    "\n",
    "p2 <- NHANES_child %>%\n",
    "  ggplot(aes(x = Age, y = Height)) +\n",
    "  geom_point(position = \"jitter\",size=0.05) +\n",
    "  scale_x_continuous(breaks = seq.int(0, 20, 2)) +\n",
    "  annotate('segment',x=0,xend=max(NHANES_child$Age),\n",
    "           y=0,yend=max(lmResultHeightOnly$fitted.values),\n",
    "           color='blue',lwd=1) +\n",
    "  ggtitle('B: age')\n",
    "\n",
    "p3 <- NHANES_child %>%\n",
    "  ggplot(aes(x = Age, y = Height)) +\n",
    "  geom_point(position = \"jitter\",size=0.05) +\n",
    "  scale_x_continuous(breaks = seq.int(0, 20, 2)) +\n",
    "  geom_smooth(method='lm',se=FALSE) +\n",
    "  ggtitle('C: age + constant')\n",
    "\n",
    "p4 <- NHANES_child %>%\n",
    "  ggplot(aes(x = Age, y = Height)) +\n",
    "  geom_point(aes(colour = factor(Gender)),\n",
    "             position = \"jitter\",\n",
    "             alpha = 0.8,\n",
    "             size=0.05) +\n",
    "  geom_smooth(method='lm',aes(group = factor(Gender),\n",
    "                              colour = factor(Gender))) +\n",
    "  theme(legend.position = c(0.25,0.8)) +\n",
    "  ggtitle('D: age + constant + gender')\n",
    "\n",
    "plot_grid(p1,p2,p3,p4,ncol=2)"
   ]
  },
  {
   "cell_type": "markdown",
   "id": "6c1ec1b0",
   "metadata": {},
   "source": [
    "## Figure 5.4"
   ]
  },
  {
   "cell_type": "code",
   "execution_count": null,
   "id": "d53c0894",
   "metadata": {
    "Rmd_chunk_options": "msePlot,echo=FALSE, fig.cap=\"Mean squared error plotted for each of the models tested above.\",fig.width=5,fig.height=4,out.height='50%'",
    "jupyter": {
     "output_hidden": false
    },
    "kernel": "R",
    "tags": [
     "report_output"
    ]
   },
   "outputs": [],
   "source": [
    "# find the best fitting model to predict height given age\n",
    "model_age <- lm(Height ~ Age, data = NHANES_child)\n",
    "\n",
    "# the add_predictions() function uses the fitted model to add the predicted values for each person to our dataset\n",
    "NHANES_child <-\n",
    "  NHANES_child %>%\n",
    "  add_predictions(model_age, var = \"predicted_age\") %>%\n",
    "  mutate(\n",
    "    error_age = Height - predicted_age #calculate each individual's difference from the predicted value\n",
    "  )\n",
    "\n",
    "rmse_age <-\n",
    "  NHANES_child %>%\n",
    "  summarise(\n",
    "    sqrt(mean((error_age)**2)) #calculate the root mean squared error\n",
    "  ) %>%\n",
    "  pull()\n",
    "\n",
    "# compute model fit for modeling with age and gender\n",
    "\n",
    "model_age_gender <- lm(Height ~ Age + Gender, data = NHANES_child)\n",
    "\n",
    "rmse_age_gender <-\n",
    "  NHANES_child %>%\n",
    "  add_predictions(model_age_gender, var = \"predicted_age_gender\") %>%\n",
    "  summarise(\n",
    "    sqrt(mean((Height - predicted_age_gender)**2))\n",
    "  ) %>%\n",
    "  pull()\n",
    "\n",
    "error_df <- #build a dataframe using the function tribble()\n",
    "  tribble(\n",
    "    ~model, ~error,\n",
    "    \"mode\", rmse_mode,\n",
    "    \"mean\", rmse_mean,\n",
    "    \"constant + age\", rmse_age,\n",
    "    \"constant + age + gender\", rmse_age_gender\n",
    "  ) %>%\n",
    "  mutate(\n",
    "    RMSE = error\n",
    "  )\n",
    "\n",
    "error_df %>%\n",
    "  ggplot(aes(x = model, y = RMSE)) +\n",
    "  geom_col() +\n",
    "  scale_x_discrete(limits = c(\"mode\", \"mean\", \"constant + age\", \"constant + age + gender\")) +\n",
    "  labs(\n",
    "    y = \"root mean squared error\"\n",
    "  ) +\n",
    "  coord_flip()"
   ]
  },
  {
   "cell_type": "markdown",
   "id": "dc6f17c8",
   "metadata": {},
   "source": [
    "## Figure 5.5"
   ]
  },
  {
   "cell_type": "code",
   "execution_count": null,
   "id": "7766faed",
   "metadata": {
    "Rmd_chunk_options": "BACrt,echo=FALSE,message=FALSE, fig.cap=\"Simulated relationship between blood alcohol content and reaction time on a driving test, with best-fitting linear model represented by the line. A: linear relationship with low measurement error.  B: linear relationship with higher measurement error.  C: Nonlinear relationship with low measurement error and (incorrect) linear model\"",
    "jupyter": {
     "output_hidden": false
    },
    "kernel": "R",
    "tags": [
     "report_output"
    ]
   },
   "outputs": [],
   "source": [
    "dataDf <-\n",
    "  tibble(\n",
    "    BAC = runif(100) * 0.3,\n",
    "    ReactionTime = BAC * 1 + 1 + rnorm(100) * 0.01\n",
    "  )\n",
    "\n",
    "p1 <- dataDf %>%\n",
    "  ggplot(aes(x = BAC, y = ReactionTime)) +\n",
    "  geom_point() +\n",
    "  geom_smooth(method = \"lm\", se = FALSE) +\n",
    "  ggtitle('A: linear, low noise')\n",
    "\n",
    "# noisy version\n",
    "dataDf <-\n",
    "  tibble(\n",
    "    BAC = runif(100) * 0.3,\n",
    "    ReactionTime = BAC * 2 + 1 + rnorm(100) * 0.2\n",
    "  )\n",
    "\n",
    "p2 <- dataDf %>%\n",
    "  ggplot(aes(x = BAC, y = ReactionTime)) +\n",
    "  geom_point() +\n",
    "  geom_smooth(method = \"lm\", se = FALSE) +\n",
    "  ggtitle('B: linear, high noise')\n",
    "\n",
    "# nonlinear (inverted-U) function\n",
    "\n",
    "dataDf <-\n",
    "  dataDf %>%\n",
    "  mutate(\n",
    "    caffeineLevel = runif(100) * 10,\n",
    "    caffeineLevelInvertedU = (caffeineLevel - mean(caffeineLevel))**2,\n",
    "    testPerformance = -1 * caffeineLevelInvertedU + rnorm(100) * 0.5\n",
    "  )\n",
    "\n",
    "p3 <- dataDf %>%\n",
    "  ggplot(aes(x = caffeineLevel, y = testPerformance)) +\n",
    "  geom_point() +\n",
    "  geom_smooth(method = \"lm\", se = FALSE) +\n",
    "  ggtitle('C: nonlinear')\n",
    "\n",
    "plot_grid(p1,p2,p3)"
   ]
  },
  {
   "cell_type": "markdown",
   "id": "003dd445",
   "metadata": {},
   "source": [
    "## Figure 5.6"
   ]
  },
  {
   "cell_type": "code",
   "execution_count": null,
   "id": "4d1f732e",
   "metadata": {
    "Rmd_chunk_options": "Overfitting,echo=FALSE,message=FALSE,warning=FALSE, fig.cap='An example of overfitting. Both datasets were generated using the same model, with different random noise added to generate each set.  The left panel shows the data used to fit the model, with a simple linear fit in blue and a complex (8th order polynomial) fit in red.  The root mean square error (RMSE) values for each model are shown in the figure; in this case, the complex model has a lower RMSE than the simple model.  The right panel shows the second dataset, with the same model overlaid on it and the RMSE values computed using the model obtained from the first dataset.  Here we see that the simpler model actually fits the new dataset better than the more complex model, which was overfitted to the first dataset.',fig.width=8,fig.height=4,out.height='50%'",
    "jupyter": {
     "output_hidden": false
    },
    "kernel": "R",
    "tags": [
     "report_output"
    ]
   },
   "outputs": [],
   "source": [
    "#parameters for simulation\n",
    "set.seed(1122)\n",
    "sampleSize <- 16\n",
    "\n",
    "\n",
    "#build a dataframe of simulated data\n",
    "simData <-\n",
    "  tibble(\n",
    "    X = rnorm(sampleSize),\n",
    "    Y = X + rnorm(sampleSize, sd = 1),\n",
    "    Ynew = X + rnorm(sampleSize, sd = 1)\n",
    "  )\n",
    "\n",
    "#fit models to these data\n",
    "simpleModel <- lm(Y ~ X, data = simData)\n",
    "complexModel <- lm(Y ~ poly(X, 8), data = simData)\n",
    "\n",
    "#calculate root mean squared error for \"current\" dataset\n",
    "rmse_simple <- sqrt(mean(simpleModel$residuals**2))\n",
    "rmse_complex <- sqrt(mean(complexModel$residuals**2))\n",
    "\n",
    "#calculate root mean squared error for \"new\" dataset\n",
    "rmse_prediction_simple <- sqrt(mean((simpleModel$fitted.values - simData$Ynew)**2))\n",
    "rmse_prediction_complex <- sqrt(mean((complexModel$fitted.values - simData$Ynew)**2))\n",
    "\n",
    "#visualize\n",
    "plot_original_data <-\n",
    "  simData %>%\n",
    "  ggplot(aes(X, Y)) +\n",
    "  geom_point() +\n",
    "  geom_smooth(\n",
    "    method = \"lm\",\n",
    "    formula = y ~ poly(x, 8),\n",
    "    color = \"red\",\n",
    "    se = FALSE\n",
    "  ) +\n",
    "  geom_smooth(\n",
    "    method = \"lm\",\n",
    "    color = \"blue\",\n",
    "    se = FALSE\n",
    "  ) +\n",
    "  ylim(-3, 3) +\n",
    "  annotate(\n",
    "    \"text\",\n",
    "    x = -1.25,\n",
    "    y = 2.5,\n",
    "    label = sprintf(\"RMSE=%0.1f\", rmse_simple),\n",
    "    color = \"blue\",\n",
    "    hjust = 0,\n",
    "    cex = 4\n",
    "  ) +\n",
    "  annotate(\n",
    "    \"text\",\n",
    "    x = -1.25,\n",
    "    y = 2,\n",
    "    label = sprintf(\"RMSE=%0.1f\", rmse_complex),\n",
    "    color = \"red\",\n",
    "    hjust = 0,\n",
    "    cex = 4\n",
    "  ) +\n",
    "  ggtitle(\"original data\")\n",
    "\n",
    "plot_new_data  <-\n",
    "  simData %>%\n",
    "  ggplot(aes(X, Ynew)) +\n",
    "  geom_point() +\n",
    "  geom_smooth(\n",
    "    aes(X, Y),\n",
    "    method = \"lm\",\n",
    "    formula = y ~ poly(x, 8),\n",
    "    color = \"red\",\n",
    "    se = FALSE\n",
    "  ) +\n",
    "  geom_smooth(\n",
    "    aes(X, Y),\n",
    "    method = \"lm\",\n",
    "    color = \"blue\",\n",
    "    se = FALSE\n",
    "  ) +\n",
    "  ylim(-3, 3) +\n",
    "  annotate(\n",
    "    \"text\",\n",
    "    x = -1.25,\n",
    "    y = 2.5,\n",
    "    label = sprintf(\"RMSE=%0.1f\", rmse_prediction_simple),\n",
    "    color = \"blue\",\n",
    "    hjust = 0,\n",
    "    cex = 4\n",
    "  ) +\n",
    "  annotate(\n",
    "    \"text\",\n",
    "    x = -1.25,\n",
    "    y = 2,\n",
    "    label = sprintf(\"RMSE=%0.1f\", rmse_prediction_complex),\n",
    "    color = \"red\",\n",
    "    hjust = 0,\n",
    "    cex = 4\n",
    "  ) +\n",
    "  ggtitle(\"new data\")\n",
    "\n",
    "plot_grid(plot_original_data, plot_new_data)"
   ]
  },
  {
   "cell_type": "markdown",
   "id": "8f5ee991",
   "metadata": {},
   "source": [
    "## Figure 5.7"
   ]
  },
  {
   "cell_type": "code",
   "execution_count": null,
   "id": "c3650b3a",
   "metadata": {
    "Rmd_chunk_options": "MinSSE, echo=FALSE,fig.cap=\"A demonstration of the mean as the statistic that minimizes the sum of squared errors.  Using the NHANES child height data, we compute the mean (denoted by the blue bar). Then, we test a range of possible parameter estimates, and for each one we compute the sum of squared errors for each data point from that value, which are denoted by the black curve.  We see that the mean falls at the minimum of the squared error plot.\",fig.width=4,fig.height=4,out.height='50%'",
    "jupyter": {
     "output_hidden": false
    },
    "kernel": "R",
    "tags": [
     "report_output"
    ]
   },
   "outputs": [],
   "source": [
    "df_error <-\n",
    "  tibble(\n",
    "    val = seq(100, 175, 0.05),\n",
    "    sse = NA\n",
    "  )\n",
    "\n",
    "for (i in 1:dim(df_error)[1]) {\n",
    "  err <- NHANES_child$Height - df_error$val[i]\n",
    "  df_error$sse[i] <- sum(err**2)\n",
    "}\n",
    "\n",
    "df_error %>%\n",
    "  ggplot(aes(val, sse)) +\n",
    "  geom_vline(xintercept = mean(NHANES_child$Height), color = \"blue\") +\n",
    "  geom_point(size = 0.1) +\n",
    "  annotate(\n",
    "    \"text\",\n",
    "    x = mean(NHANES_child$Height) + 8,\n",
    "    y = max(df_error$sse),\n",
    "    label = \"mean\",\n",
    "    color = \"blue\"\n",
    "  ) +\n",
    "  labs(\n",
    "    x = \"test value\",\n",
    "    y = \"Sum of squared errors\"\n",
    "  )"
   ]
  },
  {
   "cell_type": "markdown",
   "id": "1d4bc816",
   "metadata": {},
   "source": [
    "## Table 5.1"
   ]
  },
  {
   "cell_type": "code",
   "execution_count": null,
   "id": "7158167c",
   "metadata": {
    "Rmd_chunk_options": "echo=FALSE",
    "jupyter": {
     "output_hidden": false
    },
    "kernel": "R",
    "tags": [
     "report_output"
    ]
   },
   "outputs": [],
   "source": [
    "# create income data frame\n",
    "\n",
    "incomeDf <-\n",
    "  tibble(\n",
    "  income = c(48000, 64000, 58000, 72000, 66000),\n",
    "  person = c(\"Joe\", \"Karen\", \"Mark\", \"Andrea\", \"Pat\")\n",
    ")\n",
    "\n",
    "kable(incomeDf, caption='Income for our five bar patrons')"
   ]
  },
  {
   "cell_type": "markdown",
   "id": "3e04e94a",
   "metadata": {},
   "source": [
    "## Table 5.2"
   ]
  },
  {
   "cell_type": "code",
   "execution_count": null,
   "id": "2f4f49b1",
   "metadata": {
    "Rmd_chunk_options": "echo=FALSE",
    "jupyter": {
     "output_hidden": false
    },
    "kernel": "R",
    "tags": [
     "report_output"
    ]
   },
   "outputs": [],
   "source": [
    "# add Beyonce to income data frame\n",
    "\n",
    "incomeDf <-\n",
    "  incomeDf %>%\n",
    "  rbind(c(54000000, \"Beyonce\")) %>%\n",
    "  mutate(income = as.double(income))\n",
    "\n",
    "kable(incomeDf %>% mutate(income=format(income, scientific=FALSE)), caption='Income for our five bar patrons plus Beyoncé Knowles.')"
   ]
  },
  {
   "cell_type": "markdown",
   "id": "09256b2d",
   "metadata": {},
   "source": [
    "## Table 5.3"
   ]
  },
  {
   "cell_type": "code",
   "execution_count": null,
   "id": "a35bf1a0",
   "metadata": {
    "Rmd_chunk_options": "varsim, echo=FALSE",
    "jupyter": {
     "output_hidden": false
    },
    "kernel": "R",
    "tags": [
     "report_output"
    ]
   },
   "outputs": [],
   "source": [
    "# compare variance estimates using N or N-1 in denominator\n",
    "\n",
    "population_variance <-\n",
    "  NHANES_child %>%\n",
    "  summarize(\n",
    "    var(Height)\n",
    "  ) %>%\n",
    "  pull()\n",
    "\n",
    "\n",
    "# take 100 samples and estimate the sample variance using both N or N-1  in the demoninator\n",
    "sampsize <- 50\n",
    "nsamp <- 10000\n",
    "varhat_n <- array(data = NA, dim = nsamp)\n",
    "varhat_nm1 <- array(data = NA, dim = nsamp)\n",
    "\n",
    "for (i in 1:nsamp) {\n",
    "  samp <- sample_n(NHANES_child, 1000)[1:sampsize, ]\n",
    "  sampmean <- mean(samp$Height)\n",
    "  sse <- sum((samp$Height - sampmean)**2)\n",
    "  varhat_n[i] <- sse / sampsize\n",
    "  varhat_nm1[i] <- sse / (sampsize - 1)\n",
    "}\n",
    "\n",
    "summary_df <- data.frame(Estimate=c(\"Population variance\",\n",
    "                                    \"Variance estimate using n\",\n",
    "                                    \"Variance estimate using n-1\"),\n",
    "                         Value=c(population_variance,\n",
    "                                 mean(varhat_n),\n",
    "                                 mean(varhat_nm1)))\n",
    "\n",
    "kable(summary_df, digits=1, caption='Variance estimates using n versus n-1; the estimate using n-1 is closer to the population value')"
   ]
  },
  {
   "cell_type": "markdown",
   "id": "e0452b0b",
   "metadata": {},
   "source": [
    "## Figure 5.8"
   ]
  },
  {
   "cell_type": "code",
   "execution_count": null,
   "id": "22fcc2fc",
   "metadata": {
    "Rmd_chunk_options": "crimeHist,echo=FALSE,fig.cap=\"Left: Histogram of the number of violent crimes.  The value for CA is plotted in blue. Right: A map of the same data, with number of crimes (in thousands) plotted for each state in color.\", fig.width=8,fig.height=4,out.height='50%'",
    "jupyter": {
     "output_hidden": false
    },
    "kernel": "R",
    "tags": [
     "report_output"
    ]
   },
   "outputs": [],
   "source": [
    "crimeData <-\n",
    "  read.table(\n",
    "    \"https://raw.githubusercontent.com/statsthinking21/statsthinking21-figures-data/main/CrimeOneYearofData_clean.csv\",\n",
    "    header = TRUE,\n",
    "    sep = \",\"\n",
    "  )\n",
    "\n",
    "# let's drop DC since it is so small\n",
    "crimeData <-\n",
    "  crimeData %>%\n",
    "  dplyr::filter(State != \"District of Columbia\")\n",
    "\n",
    "caCrimeData <-\n",
    "  crimeData %>%\n",
    "  dplyr::filter(State == \"California\")\n",
    "\n",
    "p1 <- crimeData %>%\n",
    "  ggplot(aes(Violent.crime.total)) +\n",
    "  geom_histogram(bins = 25) +\n",
    "  geom_vline(xintercept = caCrimeData$Violent.crime.total, color = \"blue\") +\n",
    "  xlab(\"Number of violent crimes in 2014\")\n",
    "\n",
    "library(mapproj)\n",
    "library(fiftystater)\n",
    "\n",
    "data(\"fifty_states\") # this line is optional due to lazy data loading\n",
    "\n",
    "crimeData <-\n",
    "  crimeData %>%\n",
    "  mutate(StateLower = tolower(State),\n",
    "         Violent.crime.thousands=Violent.crime.total/1000)\n",
    "\n",
    "# map_id creates the aesthetic mapping to the state name column in your data\n",
    "plot_map <-\n",
    "  ggplot(crimeData, aes(map_id = StateLower)) +\n",
    "  # map points to the fifty_states shape data\n",
    "  geom_map(aes(fill = Violent.crime.thousands), map = fifty_states) +\n",
    "  scale_x_continuous(breaks = NULL) +\n",
    "  scale_y_continuous(breaks = NULL) +\n",
    "  theme(\n",
    "    legend.position = \"bottom\",\n",
    "    panel.background = element_blank()\n",
    "  ) +\n",
    "  coord_map() +\n",
    "  expand_limits(x = fifty_states$long, y = fifty_states$lat) +\n",
    "  labs(\n",
    "    x = \"\",\n",
    "    y = \"\"\n",
    "  )\n",
    "\n",
    "# add border boxes to AK/HI\n",
    "p2 <- plot_map + fifty_states_inset_boxes()\n",
    "\n",
    "plot_grid(p1,p2)"
   ]
  },
  {
   "cell_type": "markdown",
   "id": "833c6d6b",
   "metadata": {
    "kernel": "Markdown",
    "tags": [
     "report_output"
    ]
   },
   "source": [
    "## Figure 5.9"
   ]
  },
  {
   "cell_type": "code",
   "execution_count": null,
   "id": "5ea850b3",
   "metadata": {
    "Rmd_chunk_options": "popVsCrime,echo=FALSE,fig.cap=\"Left: A plot of number of violent crimes versus population by state. Right: A histogram of per capita violent crime rates, expressed as crimes per 100,000 people.\",fig.width=8,fig.height=4,out.height='50%'",
    "jupyter": {
     "output_hidden": false
    },
    "kernel": "R",
    "tags": [
     "report_output"
    ]
   },
   "outputs": [],
   "source": [
    "p1 <- crimeData %>%\n",
    "  ggplot(aes(Population, Violent.crime.total)) +\n",
    "  geom_point() +\n",
    "  annotate(\n",
    "    \"point\",\n",
    "    x = caCrimeData$Population,\n",
    "    y = caCrimeData$Violent.crime.total,\n",
    "    color = \"blue\"\n",
    "  ) +\n",
    "  annotate(\n",
    "    \"text\",\n",
    "    x = caCrimeData$Population - 1000000,\n",
    "    y = caCrimeData$Violent.crime.total + 8000,\n",
    "    label = \"CA\",\n",
    "    color = \"blue\"\n",
    "  ) +\n",
    "  ylab(\"Number of violent crimes in 2014\")\n",
    "\n",
    "p2 <- crimeData %>%\n",
    "  ggplot(aes(Violent.Crime.rate)) +\n",
    "  geom_histogram(binwidth = 80) +\n",
    "  geom_vline(xintercept = caCrimeData$Violent.Crime.rate, color = \"blue\") +\n",
    "  annotate(\n",
    "    \"text\",\n",
    "    x = caCrimeData$Violent.Crime.rate+25,\n",
    "    y = 12,\n",
    "    label = \"CA\",\n",
    "    color = \"blue\"\n",
    "  ) +\n",
    "  scale_x_continuous(breaks = seq.int(0, 700, 100)) +\n",
    "  scale_y_continuous(breaks = seq.int(0, 13, 2)) +\n",
    "  xlab(\"Rate of violent crimes per 100,000 people\")\n",
    "\n",
    "plot_grid(p1,p2)"
   ]
  },
  {
   "cell_type": "markdown",
   "id": "152c01e9",
   "metadata": {},
   "source": [
    "## Figure 5.10"
   ]
  },
  {
   "cell_type": "code",
   "execution_count": null,
   "id": "fac77441",
   "metadata": {
    "Rmd_chunk_options": "crimeZplot,echo=FALSE,fig.cap=\"Scatterplot of original crime rate data against Z-scored data.\",fig.width=4,fig.height=4,out.height='50%'",
    "jupyter": {
     "output_hidden": false
    },
    "kernel": "R",
    "tags": [
     "report_output"
    ]
   },
   "outputs": [],
   "source": [
    "crimeData <-\n",
    "  crimeData %>%\n",
    "  mutate(\n",
    "    ViolentCrimeRateZscore =\n",
    "      (Violent.Crime.rate - mean(Violent.Crime.rate)) /\n",
    "      sd(crimeData$Violent.Crime.rate)\n",
    "    )\n",
    "\n",
    "caCrimeData <-\n",
    "  crimeData %>%\n",
    "  dplyr::filter(State == \"California\")\n",
    "\n",
    "crimeData %>%\n",
    "  ggplot(aes(Violent.Crime.rate, ViolentCrimeRateZscore)) +\n",
    "  geom_point() +\n",
    "  labs(\n",
    "    x = \"Rate of violent crimes\",\n",
    "    y = \"Z-scored rate of violent crimes\"\n",
    "  )"
   ]
  },
  {
   "cell_type": "markdown",
   "id": "5e5878da",
   "metadata": {},
   "source": [
    "## Figure 5.11"
   ]
  },
  {
   "cell_type": "code",
   "execution_count": null,
   "id": "11f5a685",
   "metadata": {
    "Rmd_chunk_options": "crimeZmap,echo=FALSE,fig.cap=\"Crime data rendered onto a US map, presented as Z-scores.\"",
    "jupyter": {
     "output_hidden": false
    },
    "kernel": "R",
    "tags": [
     "report_output"
    ]
   },
   "outputs": [],
   "source": [
    "plot_map_z <-\n",
    "  ggplot(crimeData, aes(map_id = StateLower)) +\n",
    "  # map points to the fifty_states shape data\n",
    "  geom_map(aes(fill = ViolentCrimeRateZscore), map = fifty_states) +\n",
    "  expand_limits(x = fifty_states$long, y = fifty_states$lat) +\n",
    "  scale_x_continuous(breaks = NULL) +\n",
    "  scale_y_continuous(breaks = NULL) +\n",
    "  theme(\n",
    "    legend.position = \"bottom\",\n",
    "    panel.background = element_blank()\n",
    "  ) +\n",
    "  coord_map() +\n",
    "  expand_limits(x = fifty_states$long, y = fifty_states$lat) +\n",
    "  labs(x = \"\", y = \"\")\n",
    "\n",
    "# add border boxes to AK/HI\n",
    "plot_map_z + fifty_states_inset_boxes()"
   ]
  },
  {
   "cell_type": "markdown",
   "id": "695912c3",
   "metadata": {},
   "source": [
    "## Figure 5.12"
   ]
  },
  {
   "cell_type": "code",
   "execution_count": null,
   "id": "95c94a11",
   "metadata": {
    "Rmd_chunk_options": "zDensityCDF,echo=FALSE, fig.height=8, fig.width=8, fig.cap=\"Density (top) and cumulative distribution (bottom) of a standard normal distribution, with cutoffs at one standard deviation above/below the mean (left column) and two standard deviations (right column).\"",
    "jupyter": {
     "output_hidden": false
    },
    "kernel": "R",
    "tags": [
     "report_output"
    ]
   },
   "outputs": [],
   "source": [
    "# First, create a function to generate plots of the density and CDF\n",
    "dnormfun <- function(x) {\n",
    "  return(dnorm(x, 248))\n",
    "}\n",
    "\n",
    "plot_density_and_cdf <-\n",
    "  function(zcut, zmin = -4, zmax = 4, plot_cdf = TRUE, zmean = 0, zsd = 1) {\n",
    "    zmin <- zmin * zsd + zmean\n",
    "    zmax <- zmax * zsd + zmean\n",
    "    x <- seq(zmin, zmax, 0.1 * zsd)\n",
    "    zdist <- dnorm(x, mean = zmean, sd = zsd)\n",
    "    area <- pnorm(zcut) - pnorm(-zcut)\n",
    "\n",
    "    p2 <-\n",
    "      tibble(\n",
    "        zdist = zdist,\n",
    "        x = x\n",
    "      ) %>%\n",
    "      ggplot(aes(x, zdist)) +\n",
    "      geom_line(\n",
    "        aes(x, zdist),\n",
    "        color = \"red\",\n",
    "        size = 2\n",
    "      ) +\n",
    "      stat_function(\n",
    "        fun = dnorm, args = list(mean = zmean, sd = zsd),\n",
    "        xlim = c(zmean - zcut * zsd, zmean + zsd * zcut),\n",
    "        geom = \"area\", fill = \"orange\"\n",
    "      ) +\n",
    "      stat_function(\n",
    "        fun = dnorm, args = list(mean = zmean, sd = zsd),\n",
    "        xlim = c(zmin, zmean - zcut * zsd),\n",
    "        geom = \"area\", fill = \"green\"\n",
    "      ) +\n",
    "      stat_function(\n",
    "        fun = dnorm, args = list(mean = zmean, sd = zsd),\n",
    "        xlim = c(zmean + zcut * zsd, zmax),\n",
    "        geom = \"area\", fill = \"green\"\n",
    "      ) +\n",
    "      annotate(\n",
    "        \"text\",\n",
    "        x = zmean,\n",
    "        y = dnorm(zmean, mean = zmean, sd = zsd) / 2,\n",
    "        label = sprintf(\"%0.1f%%\", area * 100)\n",
    "      ) +\n",
    "      annotate(\n",
    "        \"text\",\n",
    "        x = zmean - zsd * zcut - 0.5 * zsd,\n",
    "        y = dnorm(zmean - zcut * zsd, mean = zmean, sd = zsd) + 0.01 / zsd,\n",
    "        label = sprintf(\"%0.1f%%\", pnorm(zmean - zsd * zcut, mean = zmean, sd = zsd) * 100)\n",
    "      ) +\n",
    "      annotate(\n",
    "        \"text\",\n",
    "        x = zmean + zsd * zcut + 0.5 * zsd,\n",
    "        y = dnorm(zmean - zcut * zsd, mean = zmean, sd = zsd) + 0.01 / zsd,\n",
    "        label = sprintf(\"%0.1f%%\", (1 - pnorm(zmean + zsd * zcut, mean = zmean, sd = zsd)) * 100)\n",
    "      ) +\n",
    "      xlim(zmin, zmax) +\n",
    "      labs(\n",
    "        x = \"Z score\",\n",
    "        y = \"density\"\n",
    "      )\n",
    "\n",
    "      cdf2 <-\n",
    "        tibble(\n",
    "          zdist = zdist,\n",
    "          x = x,\n",
    "          zcdf = pnorm(x, mean = zmean, sd = zsd)\n",
    "        ) %>%\n",
    "        ggplot(aes(x, zcdf)) +\n",
    "        geom_line() +\n",
    "        annotate(\n",
    "          \"segment\",\n",
    "          x = zmin,\n",
    "          xend = zmean + zsd * zcut,\n",
    "          y = pnorm(zmean + zsd * zcut, mean = zmean, sd = zsd),\n",
    "          yend = pnorm(zmean + zsd * zcut, mean = zmean, sd = zsd),\n",
    "          color = \"red\",\n",
    "          linetype = \"dashed\"\n",
    "        ) +\n",
    "        annotate(\n",
    "          \"segment\",\n",
    "          x = zmean + zsd * zcut,\n",
    "          xend = zmean + zsd * zcut,\n",
    "          y = 0, yend = pnorm(zmean + zsd * zcut, mean = zmean, sd = zsd),\n",
    "          color = \"red\",\n",
    "          linetype = \"dashed\"\n",
    "        ) +\n",
    "        annotate(\n",
    "          \"segment\",\n",
    "          x = zmin,\n",
    "          xend = zmean - zcut * zsd,\n",
    "          y = pnorm(zmean - zcut * zsd, mean = zmean, sd = zsd),\n",
    "          yend = pnorm(zmean - zcut * zsd, mean = zmean, sd = zsd),\n",
    "          color = \"blue\",\n",
    "          linetype = \"dashed\"\n",
    "        ) +\n",
    "        annotate(\n",
    "          \"segment\",\n",
    "          x = zmean - zcut * zsd,\n",
    "          xend = zmean - zcut * zsd,\n",
    "          y = 0,\n",
    "          yend = pnorm(zmean - zcut * zsd, mean = zmean, sd = zsd),\n",
    "          color = \"blue\",\n",
    "          linetype = \"dashed\"\n",
    "        ) +\n",
    "        ylab(\"Cumulative density\")\n",
    "\n",
    "\n",
    "    return(list(pdf=p2, cdf=cdf2))\n",
    "  }\n",
    "\n",
    "plots1 = plot_density_and_cdf(1)\n",
    "plots2 = plot_density_and_cdf(2)\n",
    "\n",
    "plot_grid(plots1$pdf, plots2$pdf, plots1$cdf, plots2$cdf, nrow=2, ncol=2)"
   ]
  },
  {
   "cell_type": "markdown",
   "id": "56d50034",
   "metadata": {},
   "source": [
    "## Figure 5.13"
   ]
  },
  {
   "cell_type": "code",
   "execution_count": null,
   "id": "ca4061b7",
   "metadata": {
    "Rmd_chunk_options": "stdScores,echo=FALSE,fig.cap=\"Crime data presented as standardized scores with mean of  100 and standard deviation of 10.\",fig.width=4,fig.height=4,out.height='50%'",
    "jupyter": {
     "output_hidden": false
    },
    "kernel": "R",
    "tags": [
     "report_output"
    ]
   },
   "outputs": [],
   "source": [
    "crimeData <-\n",
    "  crimeData %>%\n",
    "  mutate(\n",
    "    ViolentCrimeRateStdScore = (ViolentCrimeRateZscore) * 10 + 100\n",
    "  )\n",
    "\n",
    "caCrimeData <-\n",
    "  crimeData %>%\n",
    "  filter(State == \"California\")\n",
    "\n",
    "crimeData %>%\n",
    "  ggplot(aes(ViolentCrimeRateStdScore)) +\n",
    "  geom_histogram(binwidth = 5) +\n",
    "  geom_vline(xintercept = caCrimeData$ViolentCrimeRateStdScore, color = \"blue\") +\n",
    "  scale_y_continuous(breaks = seq.int(0, 13, 2)) +\n",
    "  annotate(\n",
    "    \"text\",\n",
    "    x = caCrimeData$ViolentCrimeRateStdScore + 6,\n",
    "    y = 12,\n",
    "    label = \"California\",\n",
    "    color = \"blue\"\n",
    "  ) +\n",
    "  labs(\n",
    "    x = \"Standardized rate of violent crimes\"\n",
    "  )"
   ]
  },
  {
   "cell_type": "markdown",
   "id": "a9d56d27",
   "metadata": {},
   "source": [
    "## Figure 5.14"
   ]
  },
  {
   "cell_type": "code",
   "execution_count": null,
   "id": "642d04f3",
   "metadata": {
    "Rmd_chunk_options": "crimeTypePlot,echo=FALSE,fig.cap=\"Plot of violent vs. property crime rates (left) and Z-scored rates (right).\",fig.width=8,fig.height=4,out.height='50%'",
    "jupyter": {
     "output_hidden": false
    },
    "kernel": "R",
    "tags": [
     "report_output"
    ]
   },
   "outputs": [],
   "source": [
    "p1 <- crimeData %>%\n",
    "  ggplot(aes(Violent.Crime.rate, Property.crime.rate)) +\n",
    "  geom_point(size = 2) +\n",
    "  annotate(\n",
    "    \"point\",\n",
    "    x = caCrimeData$Violent.Crime.rate,\n",
    "    y = caCrimeData$Property.crime.rate,\n",
    "    color = \"blue\",\n",
    "    size = 5\n",
    "  ) +\n",
    "  annotate(\n",
    "    \"text\",\n",
    "    x = caCrimeData$Violent.Crime.rate + 100,\n",
    "    y = caCrimeData$Property.crime.rate - 50,\n",
    "    label = \"California\",\n",
    "    color = \"blue\",\n",
    "    size = 5\n",
    "  ) +\n",
    "  labs(\n",
    "    x = \"Violent crime rate (per 100,000)\",\n",
    "    y = \"Property crime rate (per 100,000)\"\n",
    "  )\n",
    "\n",
    "# plot z scores\n",
    "\n",
    "crimeData <-\n",
    "  crimeData %>%\n",
    "  mutate(\n",
    "    PropertyCrimeRateZscore =\n",
    "      (Property.crime.rate - mean(Property.crime.rate)) /\n",
    "      sd(Property.crime.rate)\n",
    "  )\n",
    "\n",
    "caCrimeData <-\n",
    "  crimeData %>%\n",
    "  dplyr::filter(State == \"California\")\n",
    "\n",
    "\n",
    "p2 <- crimeData %>%\n",
    "  ggplot(aes(ViolentCrimeRateZscore, PropertyCrimeRateZscore)) +\n",
    "  geom_point(size = 2) +\n",
    "  scale_y_continuous(breaks = seq.int(-2, 2, .5)) +\n",
    "  scale_x_continuous(breaks = seq.int(-2, 2, .5)) +\n",
    "  annotate(\n",
    "    \"point\",\n",
    "    x = caCrimeData$ViolentCrimeRateZscore,\n",
    "    y = caCrimeData$PropertyCrimeRateZscore,\n",
    "    color = \"blue\", size = 5\n",
    "  ) +\n",
    "  annotate(\n",
    "    \"text\",\n",
    "    x = caCrimeData$ViolentCrimeRateZscore + 0.8,\n",
    "    y = caCrimeData$PropertyCrimeRateZscore  - 0.2,\n",
    "    label = \"California\",\n",
    "    color = \"blue\",\n",
    "    size = 5\n",
    "  ) +\n",
    "  theme(\n",
    "    axis.title = element_text(size = 16)\n",
    "  ) +\n",
    "  labs(\n",
    "    x = \"z-scored rate of violent crimes\",\n",
    "    y = \"z-scored rate of property crimes\"\n",
    "  )\n",
    "\n",
    "plot_grid(p1,p2)"
   ]
  },
  {
   "cell_type": "markdown",
   "id": "25bd3253",
   "metadata": {},
   "source": [
    "## Figure 5.15"
   ]
  },
  {
   "cell_type": "code",
   "execution_count": null,
   "id": "1cd53d54",
   "metadata": {
    "Rmd_chunk_options": "crimeTypePopPlot,echo=FALSE,fig.cap=\"Left: Plot of violent vs. property crime rates, with population size presented through the size of the plotting symbol; California is presented in blue. Right: Difference scores for violent vs. property crime, plotted against population. \",fig.width=8,fig.height=4,out.height='50%'",
    "jupyter": {
     "output_hidden": false
    },
    "kernel": "R",
    "tags": [
     "report_output"
    ]
   },
   "outputs": [],
   "source": [
    "p1 <- crimeData %>%\n",
    "  ggplot(aes(ViolentCrimeRateZscore, PropertyCrimeRateZscore)) +\n",
    "  geom_point(aes(size = Population)) +\n",
    "  annotate(\n",
    "    \"point\",\n",
    "    x = caCrimeData$ViolentCrimeRateZscore,\n",
    "    y = caCrimeData$PropertyCrimeRateZscore,\n",
    "    color = \"blue\",\n",
    "    size = 5\n",
    "  ) +\n",
    "  labs(\n",
    "    x = \"z-scored rate of violent crimes\",\n",
    "    y = \"z-scored rate of property crimes\"\n",
    "  ) +\n",
    "  theme(legend.position = c(0.2,0.8))\n",
    "\n",
    "crimeData <- crimeData %>%\n",
    "  mutate(\n",
    "    ViolenceDiff = ViolentCrimeRateZscore - PropertyCrimeRateZscore\n",
    "  )\n",
    "\n",
    "p2 <- crimeData %>%\n",
    "  ggplot(aes(Population, ViolenceDiff)) +\n",
    "  geom_point() +\n",
    "  ylab(\"Violence difference\")\n",
    "\n",
    "plot_grid(p1,p2)"
   ]
  },
  {
   "cell_type": "code",
   "execution_count": null,
   "id": "59763446-c61e-4506-820b-7712843dd7c9",
   "metadata": {},
   "outputs": [],
   "source": []
  }
 ],
 "metadata": {
  "Rmd_chunk_options": {
   "output": {
    "bookdown::gitbook": {
     "includes": {
      "in_header": "google_analytics.html"
     },
     "lib_dir": "book_assets"
    },
    "html_document": "default",
    "pdf_document": "default"
   }
  },
  "kernelspec": {
   "display_name": "R",
   "language": "R",
   "name": "ir"
  },
  "language_info": {
   "codemirror_mode": "r",
   "file_extension": ".r",
   "mimetype": "text/x-r-source",
   "name": "R",
   "pygments_lexer": "r",
   "version": "4.2.2"
  },
  "sos": {
   "kernels": [
    [
     "SoS",
     "sos",
     "",
     ""
    ],
    [
     "R",
     "ir",
     "",
     ""
    ],
    [
     "Markdown",
     "markdown",
     "",
     ""
    ]
   ]
  }
 },
 "nbformat": 4,
 "nbformat_minor": 5
}
