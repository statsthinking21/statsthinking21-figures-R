{
 "cells": [
  {
   "cell_type": "markdown",
   "id": "853545f4",
   "metadata": {},
   "source": [
    "# Chapter 17: Practical statistical modeling"
   ]
  },
  {
   "cell_type": "code",
   "execution_count": null,
   "id": "3e18b0ea",
   "metadata": {
    "Rmd_chunk_options": "echo=FALSE,warning=FALSE,message=FALSE",
    "jupyter": {
     "output_hidden": false
    },
    "kernel": "R",
    "tags": [
     "report_output"
    ]
   },
   "outputs": [],
   "source": [
    "library(car)\n",
    "library(tidyverse)\n",
    "library(ggplot2)\n",
    "library(emmeans)\n",
    "library(cowplot)\n",
    "library(knitr)\n",
    "# library(ggfortify)\n",
    "library(gplots)\n",
    "# library(matlab)\n",
    "library(dendextend)\n",
    "library(psych)\n",
    "library(MuMIn)\n",
    "library(lme4)\n",
    "library(lmerTest)\n",
    "library(broom)\n",
    "library(DHARMa)\n",
    "library(ggbeeswarm)\n",
    "library(viridis)\n",
    "library(influence.ME)\n",
    "library(broom.mixed)\n",
    "library(ggExtra)\n",
    "\n",
    "theme_set(theme_minimal(base_size = 14))\n",
    "\n",
    "set.seed(123456) # set random seed to exactly replicate results"
   ]
  },
  {
   "cell_type": "markdown",
   "id": "22cd406a",
   "metadata": {},
   "source": [
    "## Figure 17.1 Outliers and influential observations"
   ]
  },
  {
   "cell_type": "code",
   "execution_count": null,
   "id": "6407a5c4",
   "metadata": {
    "Rmd_chunk_options": "outliers, echo=FALSE, message=FALSE, warning=FALSE, fig.width=4, fig.height=5, fig.cap=\"A scatterplot with box plots for each of the individual variables (known as 'marginal distributions').  The relative influence (Cook's distance) of each data point reflected in its size.\"",
    "jupyter": {
     "output_hidden": false
    },
    "kernel": "R",
    "tags": [
     "report_output"
    ]
   },
   "outputs": [],
   "source": [
    "set.seed(1234)\n",
    "npts = 24\n",
    "outlier_df = data.frame(Y = rnorm(npts, 0, 1)) %>%\n",
    "  mutate(X = rnorm(npts, 0, 1) + Y*0.4)\n",
    "\n",
    "lm.result = lm(Y ~ X, data=outlier_df)\n",
    "model.data = augment(lm.result)\n",
    "p2 = ggplot(model.data, aes(X, Y)) +\n",
    "  geom_smooth(method='lm', se=FALSE) +\n",
    "  geom_point(size=model.data$.cooksd*10)\n",
    "p2 <- ggMarginal(p2, type=\"boxplot\")\n",
    "p2"
   ]
  },
  {
   "cell_type": "markdown",
   "id": "090d0832",
   "metadata": {},
   "source": [
    "## Figure 17.2: Collider bias"
   ]
  },
  {
   "cell_type": "code",
   "execution_count": null,
   "id": "61477c05",
   "metadata": {
    "Rmd_chunk_options": "heightspeed, echo=FALSE, message=FALSE, warning=FALSE, fig.height=4, fig.width=6, fig.cap='Scatterplot of simulated data for height versus speed of a group of basketball players.  NBA players are selected based on a combination of speed and height, and are shown in blue.'",
    "jupyter": {
     "output_hidden": false
    },
    "kernel": "R",
    "tags": [
     "report_output"
    ]
   },
   "outputs": [],
   "source": [
    "# https://observablehq.com/@herbps10/collider-bias\n",
    "npts = 1000\n",
    "set.seed(123456)\n",
    "\n",
    "conf_df = data.frame(height=rnorm(npts, 175, 20),\n",
    "                     speed = rnorm(npts, 50, 10)) %>%\n",
    "  mutate(zheight = scale(height),\n",
    "         zspeed = scale(speed),\n",
    "         speedXheight = zheight * zspeed,\n",
    "         NBA = as.factor(speedXheight > quantile(speedXheight, .90) & speed > mean(speed) & height & mean(height)))\n",
    "\n",
    "ggplot(conf_df, aes(height, speed, color=NBA)) + geom_point(size=1.5)"
   ]
  },
  {
   "cell_type": "code",
   "execution_count": null,
   "id": "7ef5ecd4",
   "metadata": {
    "Rmd_chunk_options": "echo=FALSE, message=FALSE, warning=FALSE",
    "jupyter": {
     "output_hidden": false
    },
    "kernel": "R",
    "tags": [
     "report_output"
    ]
   },
   "outputs": [],
   "source": [
    "summary(lm(speed ~ height, data=conf_df))"
   ]
  },
  {
   "cell_type": "markdown",
   "id": "f2429e2e",
   "metadata": {},
   "source": [
    "Model with NBA player status (collider)"
   ]
  },
  {
   "cell_type": "code",
   "execution_count": null,
   "id": "5ab27b02",
   "metadata": {
    "Rmd_chunk_options": "echo=FALSE, message=FALSE, warning=FALSE",
    "jupyter": {
     "output_hidden": false
    },
    "kernel": "R",
    "tags": [
     "report_output"
    ]
   },
   "outputs": [],
   "source": [
    "summary(lm(speed ~ height + NBA, data=conf_df))"
   ]
  },
  {
   "cell_type": "markdown",
   "id": "e5c97d31",
   "metadata": {},
   "source": [
    "same regression only on the NBA players, where we see a strong negative relationship between speed and height:"
   ]
  },
  {
   "cell_type": "code",
   "execution_count": null,
   "id": "3a81b86c",
   "metadata": {
    "Rmd_chunk_options": "echo=FALSE, message=FALSE, warning=FALSE",
    "jupyter": {
     "output_hidden": false
    },
    "kernel": "R",
    "tags": [
     "report_output"
    ]
   },
   "outputs": [],
   "source": [
    "summary(lm(speed ~ height, data=conf_df %>% dplyr::filter(NBA==TRUE)))"
   ]
  },
  {
   "cell_type": "markdown",
   "id": "71e77ae7",
   "metadata": {},
   "source": [
    "## Example 1: Self-regulation and arrest"
   ]
  },
  {
   "cell_type": "code",
   "execution_count": null,
   "id": "7f573457",
   "metadata": {
    "Rmd_chunk_options": "DataPrep_sro, echo=FALSE, message=FALSE",
    "jupyter": {
     "output_hidden": false
    },
    "kernel": "R",
    "tags": [
     "report_output"
    ]
   },
   "outputs": [],
   "source": [
    "behavdata <- read_csv('https://raw.githubusercontent.com/statsthinking21/statsthinking21-figures-data/main/Eisenberg/meaningful_variables.csv',\n",
    "                      show_col_types = FALSE)\n",
    "demoghealthdata <- read_csv('https://raw.githubusercontent.com/statsthinking21/statsthinking21-figures-data/main/Eisenberg/demographic_health.csv',\n",
    "                            show_col_types = FALSE)\n",
    "\n",
    "# dplyr::recode Sex variable from 0/1 to Male/Female\n",
    "demoghealthdata <- demoghealthdata %>%\n",
    "  mutate(Sex = dplyr::recode_factor(Sex, `0`=\"Male\", `1`=\"Female\"))\n",
    "\n",
    "# combine the data into a single data frame by subcode\n",
    "alldata <- merge(behavdata, demoghealthdata, by='subcode')"
   ]
  },
  {
   "cell_type": "markdown",
   "id": "520ed579-109a-4986-912a-fa61248d7338",
   "metadata": {},
   "source": [
    "## Table 17.1"
   ]
  },
  {
   "cell_type": "code",
   "execution_count": null,
   "id": "0d79da53",
   "metadata": {
    "Rmd_chunk_options": "ArrestDistribution,echo=FALSE,fig.width=4, fig.height=4, out.width=\"50%\"",
    "jupyter": {
     "output_hidden": false
    },
    "kernel": "R",
    "tags": [
     "report_output"
    ]
   },
   "outputs": [],
   "source": [
    "arrestdata <- alldata %>%\n",
    "  drop_na(ArrestedChargedLifeCount) %>%\n",
    "  mutate(everArrested = ArrestedChargedLifeCount > 0)\n",
    "\n",
    "#ggplot(arrestdata,aes(ArrestedChargedLifeCount)) +\n",
    "#  geom_histogram(bins=max(unique(arrestdata$ArrestedChargedLifeCount)) + 1) # add 1 to account for zeros\n",
    "\n",
    "arrest_table <- arrestdata %>%\n",
    "  group_by(ArrestedChargedLifeCount) %>%\n",
    "  summarize(number = n(),\n",
    "            proportion = n()/nrow(arrestdata))\n",
    "\n",
    "kable(arrest_table, caption='Frequency distribution of number of reported arrests in the Eisenberg et al. dataset', digits=3)"
   ]
  },
  {
   "cell_type": "markdown",
   "id": "86ec134a-5319-4a73-bcfe-9cf1382d787c",
   "metadata": {},
   "source": [
    "## Figure 17.3"
   ]
  },
  {
   "cell_type": "code",
   "execution_count": null,
   "id": "2b691bf4",
   "metadata": {
    "Rmd_chunk_options": "imp_var_cleanup, echo=FALSE, message=FALSE, warning=FALSE",
    "jupyter": {
     "output_hidden": false
    },
    "kernel": "R",
    "tags": [
     "report_output"
    ]
   },
   "outputs": [],
   "source": [
    "# First, rename the survey variables so that they are shorter, and find all variables related to impulsivity.  We will first rename the variables so taht their names are shorter, for easier display.\n",
    "\n",
    "rename_list = list('upps_impulsivity_survey' = 'UPPS', 'sensation_seeking_survey' = 'SSS',\n",
    "                   'dickman_survey' = 'Dickman',  'bis11_survey' = 'BIS11')\n",
    "impulsivity_variables = c()\n",
    "\n",
    "for (potential_match in names(alldata)){\n",
    "  for (n in names(rename_list)){\n",
    "    if (str_detect(potential_match, n)){\n",
    "      # print(sprintf('found match: %s %s', n, potential_match))\n",
    "      replacement_name <- str_replace(potential_match, n, toString(rename_list[n]))\n",
    "      names(alldata)[names(alldata) == potential_match] <- replacement_name\n",
    "      impulsivity_variables <- c(impulsivity_variables, replacement_name)\n",
    "    }\n",
    "  }\n",
    "}\n",
    "\n",
    "impulsivity_data <- alldata[,impulsivity_variables] %>%\n",
    "  drop_na()\n",
    "cc = cor(impulsivity_data, use='pairwise.complete')"
   ]
  },
  {
   "cell_type": "code",
   "execution_count": null,
   "id": "ecaf33dc",
   "metadata": {
    "Rmd_chunk_options": "impCorrHeatmap, echo=FALSE, message=FALSE, warning=FALSE, fig.width=12, fig.height=10, out.width=\"90%\", fig.cap=\"A heatmap of the correlation matrix of the impulsivity variables for the arrest analysis, reordered by their clustering\"",
    "jupyter": {
     "output_hidden": false
    },
    "kernel": "R",
    "tags": [
     "report_output"
    ]
   },
   "outputs": [],
   "source": [
    "colors <- viridis(100)\n",
    "cellvalues <- format(round(cc, 2), nsmall = 2)\n",
    "par(mar=c(4,4,4,8)+0.1)\n",
    "hm <- heatmap.2(cc, trace='none', key=FALSE, dendrogram='row',\n",
    "                cellnote=cellvalues, notecol='black',\n",
    "                col=colors, margins=c(10, 14), revC = TRUE)"
   ]
  },
  {
   "cell_type": "markdown",
   "id": "2c2a96d6",
   "metadata": {},
   "source": [
    "## Figure 17.4"
   ]
  },
  {
   "cell_type": "code",
   "execution_count": null,
   "id": "18f0d9c6",
   "metadata": {
    "Rmd_chunk_options": "mkvar_imp, echo=FALSE, message=FALSE, warning=FALSE",
    "jupyter": {
     "output_hidden": false
    },
    "kernel": "R",
    "tags": [
     "report_output"
    ]
   },
   "outputs": [],
   "source": [
    "# use the clustering from the heatmap to identify the two sets of variables\n",
    "groups = cutree(hm$rowDendrogram, k=2)\n",
    "vars_cluster1 <- names(groups[groups == 1])\n",
    "vars_cluster2 <- names(groups[groups == 2])\n",
    "\n",
    "# compute the mean impulsivity and sensation seeking values for each individual\n",
    "# standardize the  measures to  make interpretation of the model easier\n",
    "\n",
    "alldata <- alldata %>%\n",
    "  mutate(mean_impulsivity = rowMeans(dplyr::select(., all_of(vars_cluster1)), na.rm = TRUE),\n",
    "         mean_impulsivity = (mean_impulsivity - mean(mean_impulsivity))/sd(mean_impulsivity),\n",
    "         mean_senseek = rowMeans(dplyr::select(., all_of(vars_cluster2)), na.rm = TRUE),\n",
    "         mean_senseek = (mean_senseek - mean(mean_senseek))/sd(mean_senseek))\n",
    "\n",
    "\n",
    "# create some additional useful variables, and clean up the data frame\n",
    "# to only include the variables of interest and individuals without missing data\n",
    "arrestdata <- alldata %>%\n",
    "  mutate(everArrested = ArrestedChargedLifeCount > 0,\n",
    "         anyTickets = TrafficTicketsLastYearCount > 0,\n",
    "         anyAccidents = TrafficAccidentsLifeCount > 0) %>%\n",
    "  dplyr::select(c(mean_impulsivity, mean_senseek, ArrestedChargedLifeCount,\n",
    "           everArrested, anyTickets, TrafficTicketsLastYearCount,\n",
    "           anyAccidents,TrafficAccidentsLifeCount, Age, Sex)) %>%\n",
    "  drop_na() %>%\n",
    "  mutate(\n",
    "    everArrestedInt = as.integer(everArrested),\n",
    "    everArrested = dplyr::recode_factor(everArrestedInt, `1`='Arrested', `0`='NotArrested'),\n",
    "    SexInt = dplyr::recode(Sex, Female=0, Male=1))"
   ]
  },
  {
   "cell_type": "code",
   "execution_count": null,
   "id": "7988917d",
   "metadata": {
    "Rmd_chunk_options": "ImpulsivityPairs,echo=FALSE,fig.cap=\".\", fig.cap=\"A scatterplot of matrices for the mean impulsivity and sensation seeking variables derived by averaging the two clusters of original variables.\", fig.width=5, fig.height=5, out.width=\"50%\"",
    "jupyter": {
     "output_hidden": false
    },
    "kernel": "R",
    "tags": [
     "report_output"
    ]
   },
   "outputs": [],
   "source": [
    "pairs.panels(arrestdata[,c('mean_impulsivity', 'mean_senseek')])"
   ]
  },
  {
   "cell_type": "markdown",
   "id": "8a3bc2c7",
   "metadata": {},
   "source": [
    "## Figure 17.5"
   ]
  },
  {
   "cell_type": "code",
   "execution_count": null,
   "id": "ce028be1",
   "metadata": {
    "Rmd_chunk_options": "ttestPlot, echo=FALSE, message=FALSE, warning=FALSE, fig.cap='A plot of mean impulsivity and sensation seeking as a function of whether the individual has ever been arrested.  The data are plotted using a box plot with an overlaid beehive plot that shows the distribution of the data more clearly.'",
    "jupyter": {
     "output_hidden": false
    },
    "kernel": "R",
    "tags": [
     "report_output"
    ]
   },
   "outputs": [],
   "source": [
    "plotdata = pivot_longer(arrestdata,\n",
    "                        c(mean_impulsivity, mean_senseek),\n",
    "                        names_to = 'variable') %>%\n",
    "  mutate(variable = dplyr::recode(variable, mean_impulsivity=\"Mean impulsivity\",\n",
    "         mean_senseek=\"Mean sens. seeking\"))\n",
    "\n",
    "\n",
    "p1 = ggplot(plotdata, aes(everArrested, value)) +\n",
    "  geom_boxplot() +\n",
    "  geom_beeswarm(alpha=0.1) +\n",
    "  facet_grid(. ~ variable)\n",
    "\n",
    "p1 = ggplot(arrestdata, aes(everArrested, mean_impulsivity)) +\n",
    "  geom_boxplot() +\n",
    "  geom_beeswarm(alpha=0.1) +\n",
    "  ylab('Mean impulsivity')\n",
    "p2 = ggplot(arrestdata, aes(everArrested, mean_senseek)) +\n",
    "  geom_boxplot() +\n",
    "  geom_beeswarm(alpha=0.1)+\n",
    "  ylab('Mean sensation seeking')\n",
    "plot_grid(p1, p2)"
   ]
  },
  {
   "cell_type": "markdown",
   "id": "d4b40af8",
   "metadata": {},
   "source": [
    " t-test output for the mean impulsivity scores:"
   ]
  },
  {
   "cell_type": "code",
   "execution_count": null,
   "id": "e910648e",
   "metadata": {
    "Rmd_chunk_options": "imp_arrest_ttest, echo=FALSE, message=FALSE, warning=FALSE",
    "jupyter": {
     "output_hidden": false
    },
    "kernel": "R",
    "tags": [
     "report_output"
    ]
   },
   "outputs": [],
   "source": [
    "t.test(mean_impulsivity ~ everArrested, data=arrestdata, alternative='greater')\n",
    "imp_arrest_d = cohen.d(mean_impulsivity ~ everArrested, data=arrestdata)"
   ]
  },
  {
   "cell_type": "markdown",
   "id": "6cfbd956",
   "metadata": {},
   "source": [
    "t-test output for the sensation seeking variable:"
   ]
  },
  {
   "cell_type": "code",
   "execution_count": null,
   "id": "6b94df6c",
   "metadata": {
    "Rmd_chunk_options": "ss_arrest_ttest, echo=FALSE, message=FALSE, warning=FALSE",
    "jupyter": {
     "output_hidden": false
    },
    "kernel": "R",
    "tags": [
     "report_output"
    ]
   },
   "outputs": [],
   "source": [
    "t.test(mean_senseek ~ everArrested, data=arrestdata, alternative='greater')\n",
    "imp_arrest_d = cohen.d(mean_senseek ~ everArrested, data=arrestdata)"
   ]
  },
  {
   "cell_type": "markdown",
   "id": "98c9fef2",
   "metadata": {},
   "source": [
    "## Figure 17.6: Logistic regression\n",
    "\n"
   ]
  },
  {
   "cell_type": "code",
   "execution_count": null,
   "id": "8d9b6699",
   "metadata": {
    "Rmd_chunk_options": "logregSimPlot, echo=FALSE, message=FALSE, warning=FALSE, fig.cap='Plots of linear regression (left) and logistic regression (right) predictions (blue line) overlaid on simulated binary data.  Data points are jittered in the Y direction to help visualize them more clearly.', fig.height=4, fig.width=8",
    "jupyter": {
     "output_hidden": false
    },
    "kernel": "R",
    "tags": [
     "report_output"
    ]
   },
   "outputs": [],
   "source": [
    "set.seed(1234)\n",
    "n = 100\n",
    "b0 = 100\n",
    "b1 = 3\n",
    "\n",
    "logreg_df = data.frame(x = rnorm(n, 0,10)) %>%\n",
    "  mutate(y = as.integer(b0 + b1*x + rnorm(n, 0, 5)),\n",
    "         y_bin = as.integer(runif(n) < 1/(1 + exp(-(y - mean(y))/sd(y)))))\n",
    "lm_result_binary = lm(y_bin ~ x, data=logreg_df)\n",
    "glm_result_binary = glm(y_bin ~ x, family=binomial, data=logreg_df)\n",
    "\n",
    "p1 = ggplot(logreg_df, aes(x, y_bin)) +\n",
    "  geom_jitter(height=0.01, width=0) +\n",
    "  geom_smooth(method='lm', se=FALSE) +\n",
    "  ggtitle('B) Linear regression')\n",
    "\n",
    "pred_df = data.frame(x=seq(-25, 25, by=.1))\n",
    "pred_df = pred_df %>%\n",
    "  mutate(y = predict(glm_result_binary, newdata=., type='response'))\n",
    "\n",
    "p2= ggplot(logreg_df, aes(x, y_bin)) +\n",
    "  geom_jitter(height=0.01, width=0) +\n",
    "  geom_line(data=pred_df, aes(x,y), color='blue') +\n",
    "  ggtitle('B) Logistic regression')\n",
    "\n",
    "plot_grid(p1, p2)"
   ]
  },
  {
   "cell_type": "markdown",
   "id": "412c9af3",
   "metadata": {},
   "source": [
    "Logistic regression output:"
   ]
  },
  {
   "cell_type": "code",
   "execution_count": null,
   "id": "fd50550d",
   "metadata": {
    "Rmd_chunk_options": "echo=FALSE, message=FALSE, warning=FALSE",
    "jupyter": {
     "output_hidden": false
    },
    "kernel": "R",
    "tags": [
     "report_output"
    ]
   },
   "outputs": [],
   "source": [
    "summary(glm_result_binary)"
   ]
  },
  {
   "cell_type": "markdown",
   "id": "5dfe42bc",
   "metadata": {},
   "source": [
    "Logistic regression output for impulsivity dataset"
   ]
  },
  {
   "cell_type": "code",
   "execution_count": null,
   "id": "40495294",
   "metadata": {
    "Rmd_chunk_options": "echo=FALSE, message=FALSE, warning=FALSE",
    "jupyter": {
     "output_hidden": false
    },
    "kernel": "R",
    "tags": [
     "report_output"
    ]
   },
   "outputs": [],
   "source": [
    "impmodeldata <- arrestdata %>%\n",
    "  dplyr::select(everArrestedInt, mean_impulsivity, mean_senseek, Age, Sex) %>%\n",
    "  mutate(AgeSquared = (Age - mean(Age))**2)\n",
    "\n",
    "# glm requires int or logical variable as Y\n",
    "glm_imp_arrest = glm(everArrestedInt ~ mean_impulsivity + mean_senseek + Age +  AgeSquared + Sex,\n",
    "                    data=impmodeldata, family=binomial)\n",
    "glm_imp_arrest_baseline = glm(everArrestedInt ~ Age + Sex,\n",
    "                    data=impmodeldata, family=binomial)\n",
    "probabilities <- predict(glm_imp_arrest, type = \"response\")\n",
    "predicted.classes <- ifelse(probabilities > 0.5, \"pos\", \"neg\")\n",
    "model.data = augment(glm_imp_arrest)\n",
    "\n",
    "glm_imp_arrest\n",
    "# summary(glm_imp_arrest)"
   ]
  },
  {
   "cell_type": "markdown",
   "id": "fc35d067",
   "metadata": {},
   "source": [
    "Test for overdispersion"
   ]
  },
  {
   "cell_type": "code",
   "execution_count": null,
   "id": "a04057cb",
   "metadata": {
    "Rmd_chunk_options": "imp_overdisp, echo=FALSE, message=FALSE, warning=FALSE",
    "jupyter": {
     "output_hidden": false
    },
    "kernel": "R",
    "tags": [
     "report_output"
    ]
   },
   "outputs": [],
   "source": [
    "testDispersion(glm_imp_arrest, alternative='greater', type='PearsonChisq')"
   ]
  },
  {
   "cell_type": "markdown",
   "id": "c5f5ca4e",
   "metadata": {},
   "source": [
    "### Figure 17.7"
   ]
  },
  {
   "cell_type": "code",
   "execution_count": null,
   "id": "bdd2a8d1",
   "metadata": {
    "Rmd_chunk_options": "logregDiag, echo=FALSE, message=FALSE, warning=FALSE, fig.cap=\"Plots of the three continuous variables in the model (age, mean impulsivity, and mean sensation seeking) plotted against the observed log odds of the outcome variable estimated using local regression.  The size of the points in each plot is scaled by the Cook's D value for each observation.\", fig.width=8, fig.height=8",
    "jupyter": {
     "output_hidden": false
    },
    "kernel": "R",
    "tags": [
     "report_output"
    ]
   },
   "outputs": [],
   "source": [
    "cat_logit_est = function(iv){\n",
    "  ncats = min(18, round(length(unique(iv))/2))\n",
    "  iv_cut = cut_number(iv, ncats)\n",
    "  mod = glm(everArrestedInt ~ iv_cut, family=binomial, data=impmodeldata)\n",
    "  return(mod$linear.predictors)\n",
    "}\n",
    "\n",
    "loess_logit_est = function(iv, span=1){\n",
    "  fit = loess(everArrestedInt ~ iv, data=impmodeldata, span=span)$fitted\n",
    "  fit[fit<=0] = 0 #negatives can happen at edges\n",
    "  logit_of_fit = logit(fit)\n",
    "  return(logit_of_fit)\n",
    "}\n",
    "\n",
    "# pull out continuous predictors\n",
    "predictors <- colnames(model.data %>% dplyr::select(-everArrestedInt, -Sex, -starts_with('.')))\n",
    "\n",
    "use_glm = FALSE\n",
    "if (use_glm){\n",
    "  model_string = \"Using glm() to estimate logit\"\n",
    "  model.data = model.data %>%\n",
    "    mutate(observed_logit_Age = cat_logit_est(Age),\n",
    "           observed_logit_senseek = cat_logit_est(mean_senseek),\n",
    "           observed_logit_impuls =  cat_logit_est(mean_impulsivity))\n",
    "} else {\n",
    "  model_string = \"Using loess() to estimate logit\"\n",
    "  model.data = model.data %>%\n",
    "    mutate(observed_logit_Age = loess_logit_est(Age),\n",
    "           observed_logit_senseek = loess_logit_est(mean_senseek),\n",
    "           observed_logit_impuls = loess_logit_est(mean_impulsivity))\n",
    "}\n",
    "\n",
    "\n",
    "point_alpha=.3\n",
    "jitter_width=0\n",
    "jitter_height=.1\n",
    "p1  = ggplot(model.data, aes(Age,observed_logit_Age,  size=.cooksd)) +\n",
    "  geom_jitter(width=jitter_width, height=jitter_height, alpha=point_alpha) +\n",
    "  geom_smooth(se=FALSE, span=1) +\n",
    "  ggtitle(model_string)+\n",
    "  theme(legend.position=\"none\")\n",
    "\n",
    "p2 = ggplot(model.data, aes(mean_senseek,observed_logit_senseek,  size=.cooksd)) +\n",
    "  geom_jitter(width=jitter_width, height=jitter_height, alpha=point_alpha) +\n",
    "  geom_smooth(se=FALSE, span=1)+\n",
    "  theme(legend.position=\"none\")\n",
    "\n",
    "p3 = ggplot(model.data, aes(mean_impulsivity,observed_logit_impuls, size=.cooksd)) +\n",
    "  geom_jitter(width=jitter_width, height=jitter_height, alpha=point_alpha) +\n",
    "  geom_smooth(se=FALSE,span=1)\n",
    "\n",
    "plot_grid(p1, p2, p3)\n",
    "# ggplot(impmodeldata_long_sample, aes(sample_logit, .fitted)) +\n",
    "#   geom_point() +\n",
    "#   facet_wrap(~predictors, scales = \"free_x\") +\n",
    "#   geom_smooth(se=FALSE)\n",
    "#\n",
    "#"
   ]
  },
  {
   "cell_type": "markdown",
   "id": "f173c093",
   "metadata": {},
   "source": [
    "model including $Age^2$ alongside Age"
   ]
  },
  {
   "cell_type": "code",
   "execution_count": null,
   "id": "a38e48e6",
   "metadata": {
    "Rmd_chunk_options": "echo=FALSE, message=FALSE, warning=FALSE",
    "jupyter": {
     "output_hidden": false
    },
    "kernel": "R",
    "tags": [
     "report_output"
    ]
   },
   "outputs": [],
   "source": [
    "glm_imp_arrest2 = glm(everArrestedInt ~ mean_impulsivity + mean_senseek + Age +  AgeSquared + Sex,\n",
    "                    data=impmodeldata, family=binomial)\n",
    "glm_imp_arrest_baseline2 = glm(everArrestedInt ~ Age + AgeSquared + Sex,\n",
    "                    data=impmodeldata, family=binomial)\n",
    "\n",
    "summary(glm_imp_arrest2)"
   ]
  },
  {
   "cell_type": "markdown",
   "id": "bef9f569",
   "metadata": {},
   "source": [
    "### Table 17.2"
   ]
  },
  {
   "cell_type": "code",
   "execution_count": null,
   "id": "7acc3382",
   "metadata": {
    "Rmd_chunk_options": "oddsratiotable, echo=FALSE, message=FALSE, warning=FALSE",
    "jupyter": {
     "output_hidden": false
    },
    "kernel": "R",
    "tags": [
     "report_output"
    ]
   },
   "outputs": [],
   "source": [
    "oddsratios = exp(cbind(\"Odds ratio\" = coef(glm_imp_arrest), confint.default(glm_imp_arrest, level = 0.95)))[2:6,]\n",
    "kable(oddsratios, digits=3, caption='Effect sizes for each of the variables in the logistic regression model, expressed as odds ratios, along with 95 percent confidence limits for each odds ratio.')"
   ]
  },
  {
   "cell_type": "markdown",
   "id": "c8c8c734",
   "metadata": {},
   "source": [
    "Bayes factor using approximation via BIC"
   ]
  },
  {
   "cell_type": "code",
   "execution_count": null,
   "id": "6e7b5d97",
   "metadata": {
    "Rmd_chunk_options": "bf_maskwearing, echo=FALSE, message=FALSE, warning=FALSE",
    "jupyter": {
     "output_hidden": false
    },
    "kernel": "R",
    "tags": [
     "report_output"
    ]
   },
   "outputs": [],
   "source": [
    "BF_01 = exp((BIC(glm_imp_arrest2) - BIC(glm_imp_arrest_baseline2))/2)  # BICs to Bayes factor\n",
    "# 1/BF_01"
   ]
  },
  {
   "cell_type": "markdown",
   "id": "46edb990",
   "metadata": {},
   "source": [
    "## Example 2: Mask-wearing and face-touching"
   ]
  },
  {
   "cell_type": "markdown",
   "id": "302a523b",
   "metadata": {},
   "source": [
    "### Figure 17.8"
   ]
  },
  {
   "cell_type": "code",
   "execution_count": null,
   "id": "9e9416e7",
   "metadata": {
    "Rmd_chunk_options": "echo=FALSE, message=FALSE, warning=FALSE",
    "jupyter": {
     "output_hidden": false
    },
    "kernel": "R",
    "tags": [
     "report_output"
    ]
   },
   "outputs": [],
   "source": [
    "# data cleaning based on .do file distributed with data\n",
    "\n",
    "maskdata = read_csv('https://raw.githubusercontent.com/statsthinking21/statsthinking21-figures-data/main/mask_wearing/DataVersion2/MaskFaceTouchOSF.csv') %>%\n",
    "  filter(face_touching != \"Missing\") %>%\n",
    "  mutate(face_touching = dplyr::recode(face_touching, 'Yes'=1, 'No'=0),\n",
    "         mask_front_touching = dplyr::recode(mask_front_touching, 'Yes'=1, .default=0),\n",
    "         mask_strap_touching = dplyr::recode(mask_strap_touching, 'Yes'=1,.default=0),\n",
    "         face_touching = face_touching | mask_front_touching | mask_strap_touching,\n",
    "         mask_wearing = dplyr::recode(mask_YesNo, 'Yes'=TRUE, 'No'=FALSE),\n",
    "         age_std = scale(age),\n",
    "         study = as.factor(study),\n",
    "         segment_crowding_std = scale(segment_crowding)) %>%\n",
    "  filter(change==0 & non_covering != 'Yes')\n",
    "\n",
    "maskdata_study1 = maskdata %>%\n",
    "  filter(study==1)\n",
    "\n",
    "maskdata_study2 = maskdata %>%\n",
    "  filter(study==2)"
   ]
  },
  {
   "cell_type": "code",
   "execution_count": null,
   "id": "d7ae7b0d",
   "metadata": {
    "Rmd_chunk_options": "maskdata1Plot, echo=FALSE, message=FALSE, warning=FALSE, fig.cap='A stacked bar graph showing the counts for face touching versus no touching separately for mask versus no mask in each of the two studies.', fig.width=5, fig.height=4",
    "jupyter": {
     "output_hidden": false
    },
    "kernel": "R",
    "tags": [
     "report_output"
    ]
   },
   "outputs": [],
   "source": [
    "ggplot(maskdata %>% mutate(study=dplyr::recode(study, `1`='Study 1', `2`='Study 2'))\n",
    "       , aes(x=mask_wearing, fill=face_touching)) + geom_bar() + facet_grid(. ~ study)"
   ]
  },
  {
   "cell_type": "markdown",
   "id": "45410e53",
   "metadata": {},
   "source": [
    "simple chi-squared test"
   ]
  },
  {
   "cell_type": "code",
   "execution_count": null,
   "id": "8e754ce9",
   "metadata": {
    "Rmd_chunk_options": "echo=FALSE, message=FALSE, warning=FALSE",
    "jupyter": {
     "output_hidden": false
    },
    "kernel": "R",
    "tags": [
     "report_output"
    ]
   },
   "outputs": [],
   "source": [
    "chisq.test(maskdata_study1$mask_wearing, maskdata_study1$face_touching)"
   ]
  },
  {
   "cell_type": "markdown",
   "id": "ba5294f9",
   "metadata": {},
   "source": [
    "analogous test for the data from the second study"
   ]
  },
  {
   "cell_type": "code",
   "execution_count": null,
   "id": "da2e62c7",
   "metadata": {
    "Rmd_chunk_options": "echo=FALSE, message=FALSE, warning=FALSE",
    "jupyter": {
     "output_hidden": false
    },
    "kernel": "R",
    "tags": [
     "report_output"
    ]
   },
   "outputs": [],
   "source": [
    "chisq.test(maskdata_study2$mask_wearing, maskdata_study2$face_touching)"
   ]
  },
  {
   "cell_type": "markdown",
   "id": "faf51a00",
   "metadata": {},
   "source": [
    "Logistic regression  model including duration and study along with mask wearing"
   ]
  },
  {
   "cell_type": "code",
   "execution_count": null,
   "id": "2fdba355",
   "metadata": {
    "Rmd_chunk_options": "echo=FALSE, message=FALSE, warning=FALSE",
    "jupyter": {
     "output_hidden": false
    },
    "kernel": "R",
    "tags": [
     "report_output"
    ]
   },
   "outputs": [],
   "source": [
    "glm_result_combined = glm(face_touching ~ mask_wearing + duration_of_observation + study,\n",
    "                          family=binomial, data=maskdata)\n",
    "summary(glm_result_combined)"
   ]
  },
  {
   "cell_type": "markdown",
   "id": "999b913a",
   "metadata": {},
   "source": [
    "Mixed effects model"
   ]
  },
  {
   "cell_type": "code",
   "execution_count": null,
   "id": "ead7f127",
   "metadata": {
    "Rmd_chunk_options": "echo=FALSE, message=FALSE, warning=FALSE",
    "jupyter": {
     "output_hidden": false
    },
    "kernel": "R",
    "tags": [
     "report_output"
    ]
   },
   "outputs": [],
   "source": [
    "glmer_result = glmer(face_touching ~ mask_wearing + duration_of_observation + (1 + mask_wearing  |unique_situation), data=maskdata, family=binomial)\n",
    "glmer_result_baseline = update(glmer_result, formula = ~ . -mask_wearing)  # Without mask effect term\n",
    "summary(glmer_result)\n",
    "\n",
    "maskdata = maskdata %>%\n",
    "  mutate(glmer_resid = residuals(glmer_result),\n",
    "         )"
   ]
  },
  {
   "cell_type": "markdown",
   "id": "a08dc2b3",
   "metadata": {},
   "source": [
    "test for overdispersion:"
   ]
  },
  {
   "cell_type": "code",
   "execution_count": null,
   "id": "1eba6e70",
   "metadata": {
    "Rmd_chunk_options": "echo=FALSE, message=FALSE, warning=FALSE",
    "jupyter": {
     "output_hidden": false
    },
    "kernel": "R",
    "tags": [
     "report_output"
    ]
   },
   "outputs": [],
   "source": [
    "testDispersion(glmer_result, alternative='greater', type='PearsonChisq')"
   ]
  },
  {
   "cell_type": "markdown",
   "id": "49f34269",
   "metadata": {},
   "source": [
    "### Figure 17.9"
   ]
  },
  {
   "cell_type": "code",
   "execution_count": null,
   "id": "7a4c21a1",
   "metadata": {
    "Rmd_chunk_options": "glmerDiag, echo=FALSE, message=FALSE, warning=FALSE, fig.height=6, fig.width=6, fig.cap=\"Diagnostic plot for mask wearing model, showing linear relationship between duration of observation and the observed log odds estimated using local regression. \"",
    "jupyter": {
     "output_hidden": false
    },
    "kernel": "R",
    "tags": [
     "report_output"
    ]
   },
   "outputs": [],
   "source": [
    "#alt.est.b <- influence(glmer_result, obs=TRUE) #\"unique_situation\")\n",
    "#cd = cooks.distance(alt.est.b)\n",
    "\n",
    "loess_logit_est2 = function(iv, span=1){\n",
    "  fit = loess(face_touching_int ~ iv, data=maskmodeldata, span=span)$fitted\n",
    "  fit[fit<=0] = 0 #negatives can happen at edges\n",
    "  logit_of_fit = logit(fit)\n",
    "  return(logit_of_fit)\n",
    "}\n",
    "\n",
    "\n",
    "maskmodeldata = augment(glmer_result) %>%\n",
    "  mutate(face_touching_int = as.integer(face_touching))\n",
    "maskmodeldata = maskmodeldata %>%\n",
    "  mutate(observed_logit = loess_logit_est2(duration_of_observation))\n",
    "\n",
    "ggplot(maskmodeldata, aes(duration_of_observation, observed_logit, size=.cooksd))+\n",
    "  geom_jitter() +\n",
    "  geom_smooth(method = \"loess\", se=FALSE)"
   ]
  },
  {
   "cell_type": "markdown",
   "id": "6d2e6047",
   "metadata": {},
   "source": [
    "### Table 17.3"
   ]
  },
  {
   "cell_type": "code",
   "execution_count": null,
   "id": "f1cdccc3",
   "metadata": {
    "Rmd_chunk_options": "maskGlmES, echo=FALSE, message=FALSE, warning=FALSE",
    "jupyter": {
     "output_hidden": false
    },
    "kernel": "R",
    "tags": [
     "report_output"
    ]
   },
   "outputs": [],
   "source": [
    "effect_table = tidy(glmer_result,conf.int=TRUE,exponentiate=TRUE,effects=\"fixed\") %>%\n",
    "  dplyr::select(term, estimate, conf.low, conf.high)\n",
    "\n",
    "names(effect_table) = c('', 'Odds ratio', '2.5 %', '97.5 %')\n",
    "kable(effect_table[2:3, ], digits=3, caption = 'Odds ratios and confidence intervals for the independent variables in the mask wearing study. Note that odds ratios are only presented for the fixed effects; since video segments were modeled as a random effect, that variable is not included.')"
   ]
  },
  {
   "cell_type": "markdown",
   "id": "5e856ee5",
   "metadata": {},
   "source": [
    "## Example 3: Asthma and air pollution"
   ]
  },
  {
   "cell_type": "markdown",
   "id": "e316c285",
   "metadata": {},
   "source": [
    "#### 3. Prepare the data for analysis"
   ]
  },
  {
   "cell_type": "code",
   "execution_count": null,
   "id": "539d8289",
   "metadata": {
    "Rmd_chunk_options": "echo=FALSE, message=FALSE, warning=FALSE",
    "jupyter": {
     "output_hidden": false
    },
    "kernel": "R",
    "tags": [
     "report_output"
    ]
   },
   "outputs": [],
   "source": [
    "# asthma data\n",
    "# https://chronicdata.cdc.gov/500-Cities-Places/500-Cities-Census-Tract-level-Data-GIS-Friendly-Fo/5mtz-k78d (for 2014)\n",
    "#\n",
    "# PM2.5 data:\n",
    "#\n",
    "# filtered for 2014 and averaged ds_pm_pred using:\n",
    "#\n",
    "# https://data.cdc.gov/Environmental-Health-Toxicology/Daily-Census-Tract-Level-PM2-5-Concentrations-2011/fcqm-xrf4/data\n",
    "\n",
    "\n",
    "pmdata = read_csv('https://raw.githubusercontent.com/statsthinking21/statsthinking21-figures-data/main/CDC_PM2.5_2014/Daily_Census_Tract-Level_PM2.5_mean_2014.csv') %>%\n",
    "  rename(TractFIPS=ctfips,\n",
    "         pm25_mean=ds_pm_pred)\n",
    "\n",
    "asthmadata = read_csv('https://raw.githubusercontent.com/statsthinking21/statsthinking21-figures-data/main/500cities_disease/acsdata_with_censusdata.csv') %>%\n",
    "  dplyr::select(-ends_with('_Crude95CI'))\n",
    "\n",
    "pm_asthma_data = inner_join(asthmadata, pmdata, by='TractFIPS') %>%\n",
    "  drop_na() %>%\n",
    "  rename(asthma_prev=CASTHMA_CrudePrev,\n",
    "         city=PlaceFIPS) %>%\n",
    "  mutate(MedianIncome = MedianIncome/1000,\n",
    "         Population2010 = Population2010/1000)\n",
    "  # mutate(log_asthma_prev = log(asthma_prev))"
   ]
  },
  {
   "cell_type": "markdown",
   "id": "49759733",
   "metadata": {},
   "source": [
    "### Figure 17.10"
   ]
  },
  {
   "cell_type": "code",
   "execution_count": null,
   "id": "7ea310f2",
   "metadata": {
    "Rmd_chunk_options": "pmAsthmaPairs, echo=FALSE, message=FALSE, warning=FALSE, fig.height=8, fig.width=8, fig.cap='Scatterplot of matrices for mean annual PM2.5 concentration values (labeled pm25_mean), along with asthma prevalence and potential confound variables. Regression lines are computed using local regression.'",
    "jupyter": {
     "output_hidden": false
    },
    "kernel": "R",
    "tags": [
     "report_output"
    ]
   },
   "outputs": [],
   "source": [
    "pairs.panels(pm_asthma_data %>% dplyr::select(pm25_mean, asthma_prev, MedianIncome, MedianAge, Population2010))"
   ]
  },
  {
   "cell_type": "markdown",
   "id": "4e93c949",
   "metadata": {},
   "source": [
    "standard linear regression model"
   ]
  },
  {
   "cell_type": "code",
   "execution_count": null,
   "id": "9f554b52",
   "metadata": {
    "Rmd_chunk_options": "echo=FALSE, message=FALSE, warning=FALSE",
    "jupyter": {
     "output_hidden": false
    },
    "kernel": "R",
    "tags": [
     "report_output"
    ]
   },
   "outputs": [],
   "source": [
    "lm_asthma_pm = lm(asthma_prev ~ pm25_mean + MedianIncome +  MedianAge + Population2010, data=pm_asthma_data)\n",
    "summary(lm_asthma_pm)"
   ]
  },
  {
   "cell_type": "markdown",
   "id": "94620996",
   "metadata": {},
   "source": [
    "### Figure 17.11"
   ]
  },
  {
   "cell_type": "code",
   "execution_count": null,
   "id": "93688e8b",
   "metadata": {
    "Rmd_chunk_options": "lrQQ, echo=FALSE, message=FALSE, warning=FALSE, fig.width=4, fig.height=4, fig.cap='Q-Q plot for residuals from simple linear regression model for asthma prevalence.'",
    "jupyter": {
     "output_hidden": false
    },
    "kernel": "R",
    "tags": [
     "report_output"
    ]
   },
   "outputs": [],
   "source": [
    "model.data = augment(lm_asthma_pm)\n",
    "\n",
    "ggplot(model.data, aes(sample=.resid)) +\n",
    "  geom_qq() +\n",
    "  geom_qq_line()"
   ]
  },
  {
   "cell_type": "markdown",
   "id": "05c730a3",
   "metadata": {},
   "source": [
    "### Figure 17.12"
   ]
  },
  {
   "cell_type": "code",
   "execution_count": null,
   "id": "fc73e8cf",
   "metadata": {
    "Rmd_chunk_options": "placeResids, echo=FALSE, message=FALSE, warning=FALSE, fig.cap='Boxplots of residuals as a function of city for linear regression model (top panel) and mixed effect model including a random effect of city (bottom panel).'",
    "jupyter": {
     "output_hidden": false
    },
    "kernel": "R",
    "tags": [
     "report_output"
    ]
   },
   "outputs": [],
   "source": [
    "model.data = model.data %>%\n",
    "  mutate(city = pm_asthma_data$city)\n",
    "\n",
    "model_means_sorted = model.data %>% group_by(city) %>%\n",
    "  summarize_all(mean) %>%\n",
    "  arrange(.resid)\n",
    "\n",
    "p1 = ggplot(model.data, aes(y=.resid, group=factor(city, levels=model_means_sorted$city))) +\n",
    "  geom_boxplot(outlier.size=0.5, alpha=.2, size=.1)\n",
    "\n",
    "lmer_asthma_pm = lmer(asthma_prev ~ pm25_mean + MedianAge + MedianIncome + Population2010 + (1 + pm25_mean|city),\n",
    "                    data=pm_asthma_data)\n",
    "lmer_asthma_pm_baseline = update(lmer_asthma_pm, formula = ~ . -pm25_mean)\n",
    "\n",
    "pm_asthma_data = pm_asthma_data %>%\n",
    "  mutate(lmer_resid = resid(lmer_asthma_pm))\n",
    "\n",
    "p2 = ggplot(pm_asthma_data, aes(y=lmer_resid, group=city)) +\n",
    "  geom_boxplot(outlier.size=0.5, alpha=.2, size=.1)\n",
    "\n",
    "plot_grid(p1, p2, nrow=2)"
   ]
  },
  {
   "cell_type": "markdown",
   "id": "baf463fe-5e47-435e-9e5c-a2d7d0e30305",
   "metadata": {},
   "source": [
    "linear mixed effect model output:"
   ]
  },
  {
   "cell_type": "code",
   "execution_count": null,
   "id": "efd9a595",
   "metadata": {
    "Rmd_chunk_options": "echo=FALSE, message=FALSE, warning=FALSE",
    "jupyter": {
     "output_hidden": false
    },
    "kernel": "R",
    "tags": [
     "report_output"
    ]
   },
   "outputs": [],
   "source": [
    "summary(lmer_asthma_pm)"
   ]
  },
  {
   "cell_type": "markdown",
   "id": "682557c2",
   "metadata": {},
   "source": [
    "### Table 17.4"
   ]
  },
  {
   "cell_type": "code",
   "execution_count": null,
   "id": "73d7ccaf",
   "metadata": {
    "Rmd_chunk_options": "lmerConfint, echo=FALSE, message=FALSE, warning=FALSE",
    "jupyter": {
     "output_hidden": false
    },
    "kernel": "R",
    "tags": [
     "report_output"
    ]
   },
   "outputs": [],
   "source": [
    "ci = confint(lmer_asthma_pm)\n",
    "lmer_confint = cbind(fixef(lmer_asthma_pm), ci[5:9,])[2:5, ]\n",
    "\n",
    "kable(lmer_confint, digits=2, caption='Parameter estimates and confidence intervals for regression parameters from mixed effect model of asthma prevalence.')"
   ]
  },
  {
   "cell_type": "markdown",
   "id": "bff09ab6",
   "metadata": {},
   "source": [
    "Compute delta r-squared"
   ]
  },
  {
   "cell_type": "code",
   "execution_count": null,
   "id": "15d284dd",
   "metadata": {
    "Rmd_chunk_options": "echo=FALSE, message=FALSE, warning=FALSE",
    "jupyter": {
     "output_hidden": false
    },
    "kernel": "R",
    "tags": [
     "report_output"
    ]
   },
   "outputs": [],
   "source": [
    "r2 = r.squaredGLMM(lmer_asthma_pm)\n",
    "# r2\n",
    "r2_baseline = r.squaredGLMM(lmer_asthma_pm_baseline)\n",
    "# r2_baseline\n",
    "\n",
    "delta_r2 = r2[1] - r2_baseline[1] [1] # marginal r-squared, reflecting fixed effects only\n",
    "# delta_r2\n",
    "\n",
    "lmer_asthma_pm_noincome = update(lmer_asthma_pm, formula = ~ . -MedianIncome)\n",
    "r2_noincome = r.squaredGLMM(lmer_asthma_pm_noincome)\n",
    "delta_r2_noincome = r2[1] - r2_noincome[1] [1] # marginal r-squared, reflecting fixed effects only\n",
    "#delta_r2_noincome"
   ]
  },
  {
   "cell_type": "markdown",
   "id": "0a935df1",
   "metadata": {},
   "source": [
    "## Example 4: Response of plants to nitrogen fertilizers and soil tilling"
   ]
  },
  {
   "cell_type": "markdown",
   "id": "9a1d3630",
   "metadata": {},
   "source": [
    "#### 3. Prepare and visualize the data"
   ]
  },
  {
   "cell_type": "code",
   "execution_count": null,
   "id": "2d112e6d",
   "metadata": {
    "Rmd_chunk_options": "echo=FALSE, message=FALSE, warning=FALSE",
    "jupyter": {
     "output_hidden": false
    },
    "kernel": "R",
    "tags": [
     "report_output"
    ]
   },
   "outputs": [],
   "source": [
    "fert_data_all = read_delim('https://raw.githubusercontent.com/statsthinking21/statsthinking21-figures-data/main/fertilizer/Fertsyntraitsall_Jan27_2008.txt', delim='\\t')\n",
    "\n",
    "fert_data = fert_data_all %>%\n",
    "  dplyr::filter(Rawabundmetric == \"Grams biomass\") %>%\n",
    "  dplyr::filter(Site == 'KBS') %>%\n",
    "  mutate(YearFac = as.factor(Year),\n",
    "         plotID_common = plotID - Fert,\n",
    "         Fert = as.factor(Fert),\n",
    "         log_rawabund = as.numeric(scale(log(Rawabund))))\n"
   ]
  },
  {
   "cell_type": "markdown",
   "id": "c9b54571",
   "metadata": {},
   "source": [
    "### Figure 17.13"
   ]
  },
  {
   "cell_type": "code",
   "execution_count": null,
   "id": "b92bd2dd",
   "metadata": {
    "Rmd_chunk_options": "abundHist, echo=FALSE, message=FALSE, warning=FALSE, fig.cap='Histograms of raw abundance (left panel) and abundance levels after transformation using a Box-Cox transformation.', fig.width=4, fig.height=4",
    "jupyter": {
     "output_hidden": false
    },
    "kernel": "R",
    "tags": [
     "report_output"
    ]
   },
   "outputs": [],
   "source": [
    "ggplot(fert_data, aes(Rawabund)) +\n",
    "  geom_histogram(bins=100) +\n",
    "  xlab('Raw crop abundance')\n"
   ]
  },
  {
   "cell_type": "markdown",
   "id": "74898fce",
   "metadata": {},
   "source": [
    "Simple linear model output:"
   ]
  },
  {
   "cell_type": "code",
   "execution_count": null,
   "id": "404c7c2c",
   "metadata": {
    "Rmd_chunk_options": "echo=FALSE, message=FALSE, warning=FALSE",
    "jupyter": {
     "output_hidden": false
    },
    "kernel": "R",
    "tags": [
     "report_output"
    ]
   },
   "outputs": [],
   "source": [
    "lm.result_fert = lm(Rawabund ~ Fert*Experiment + Year, data=fert_data)\n",
    "summary(lm.result_fert)"
   ]
  },
  {
   "cell_type": "markdown",
   "id": "0eac36e7",
   "metadata": {},
   "source": [
    "### Figure 17.14"
   ]
  },
  {
   "cell_type": "code",
   "execution_count": null,
   "id": "f1bbe97c",
   "metadata": {
    "Rmd_chunk_options": "lmResidFert, echo=FALSE, message=FALSE, warning=FALSE, fig.cap='Q-Q plot for residuals from the simple linear regression model (left) and the mixed effect model applied to log-transformed abundance values and including a random effect of species and plot (right).', fig.width=8, fig.height=4",
    "jupyter": {
     "output_hidden": false
    },
    "kernel": "R",
    "tags": [
     "report_output"
    ]
   },
   "outputs": [],
   "source": [
    "model.data = augment(lm.result_fert) %>%\n",
    "  mutate(plotID_common = fert_data$plotID_common,\n",
    "         Species_code = fert_data$Species_code)\n",
    "\n",
    "p1 = ggplot(model.data, aes(sample=.resid)) + geom_qq() + geom_qq_line()\n",
    "\n",
    "lmer.result_fert = lmer(log_rawabund ~ Fert*Experiment + Year + (1 + Fert|plotID_common) + (1 + Fert|Species_code) , data=fert_data)\n",
    "\n",
    "fert_data = fert_data %>%\n",
    "  mutate(lmer_resid = resid(lmer.result_fert))\n",
    "\n",
    "p2 = ggplot(fert_data, aes(sample=lmer_resid)) + geom_qq() + geom_qq_line()\n",
    "plot_grid(p1, p2)"
   ]
  },
  {
   "cell_type": "markdown",
   "id": "10748943-1da4-473e-a93a-c3e3597ed8bf",
   "metadata": {},
   "source": [
    "### Figure 17.15"
   ]
  },
  {
   "cell_type": "code",
   "execution_count": null,
   "id": "ed7e1fc3",
   "metadata": {
    "Rmd_chunk_options": "residPlotsSpecies, echo=FALSE, message=FALSE, warning=FALSE, fig.cap='Residuals from simple linear model presented separately for each species of plant in the dataset, showing substantial differences in the distribution of residuals across species.'",
    "jupyter": {
     "output_hidden": false
    },
    "kernel": "R",
    "tags": [
     "report_output"
    ]
   },
   "outputs": [],
   "source": [
    "model_means_sorted = model.data %>% group_by(Species_code) %>%\n",
    "  summarize_all(mean) %>%\n",
    "  arrange(.resid)\n",
    "ggplot(model.data, aes(y=.resid, group=factor(Species_code, levels=model_means_sorted$Species_code))) + geom_boxplot()"
   ]
  },
  {
   "cell_type": "markdown",
   "id": "71eb2281",
   "metadata": {},
   "source": [
    "Linear mixed effects model output:"
   ]
  },
  {
   "cell_type": "code",
   "execution_count": null,
   "id": "5f0e5bfa",
   "metadata": {
    "Rmd_chunk_options": "echo=FALSE, message=FALSE, warning=FALSE",
    "jupyter": {
     "output_hidden": false
    },
    "kernel": "R",
    "tags": [
     "report_output"
    ]
   },
   "outputs": [],
   "source": [
    "summary(lmer.result_fert)"
   ]
  },
  {
   "cell_type": "markdown",
   "id": "32816ae4",
   "metadata": {},
   "source": [
    "Effect sizes"
   ]
  },
  {
   "cell_type": "code",
   "execution_count": null,
   "id": "13371635",
   "metadata": {
    "Rmd_chunk_options": "echo=FALSE, message=FALSE, warning=FALSE",
    "jupyter": {
     "output_hidden": false
    },
    "kernel": "R",
    "tags": [
     "report_output"
    ]
   },
   "outputs": [],
   "source": [
    "emm = emmeans(lmer.result_fert, pairwise ~ Fert*Experiment)\n",
    "contrast(emm, 'tukey')"
   ]
  },
  {
   "cell_type": "markdown",
   "id": "6df5f67a-c6d4-4d83-82f2-813b0f61a00d",
   "metadata": {},
   "source": [
    "Compute delta r-squared values"
   ]
  },
  {
   "cell_type": "code",
   "execution_count": null,
   "id": "98adeafe",
   "metadata": {
    "Rmd_chunk_options": "echo=FALSE, message=FALSE, warning=FALSE",
    "jupyter": {
     "output_hidden": false
    },
    "kernel": "R",
    "tags": [
     "report_output"
    ]
   },
   "outputs": [],
   "source": [
    "lmer.result_fert_noint = update(lmer.result_fert, formula = ~ . -Fert:Experiment)\n",
    "lmer.result_fert_null = update(lmer.result_fert, formula = ~ . -Fert*Experiment)\n",
    "\n",
    "r2 = r.squaredGLMM(lmer.result_fert)\n",
    "#r2\n",
    "r2_noint = r.squaredGLMM(lmer.result_fert_noint)\n",
    "#r2_noint\n",
    "r2_null = r.squaredGLMM(lmer.result_fert_null)\n",
    "#r2_null\n",
    "\n",
    "delta_r2_int = r2[1] - r2_noint[1] [1] # marginal r-squared, reflecting fixed effects only\n",
    "#delta_r2_int\n",
    "\n",
    "delta_r2_full = r2[1] - r2_null[1] [1] # marginal r-squared, reflecting fixed effects only\n",
    "#delta_r2_full"
   ]
  },
  {
   "cell_type": "code",
   "execution_count": null,
   "id": "f7218a55-527d-4fc9-a44c-34b8bca69401",
   "metadata": {},
   "outputs": [],
   "source": []
  }
 ],
 "metadata": {
  "Rmd_chunk_options": {
   "output": {
    "bookdown::gitbook": {
     "includes": {
      "in_header": "google_analytics.html"
     },
     "lib_dir": "book_assets"
    },
    "html_document": "default",
    "pdf_document": "default"
   }
  },
  "kernelspec": {
   "display_name": "R",
   "language": "R",
   "name": "ir"
  },
  "language_info": {
   "codemirror_mode": "r",
   "file_extension": ".r",
   "mimetype": "text/x-r-source",
   "name": "R",
   "pygments_lexer": "r",
   "version": "4.2.2"
  }
 },
 "nbformat": 4,
 "nbformat_minor": 5
}
