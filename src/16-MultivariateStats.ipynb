{
 "cells": [
  {
   "cell_type": "markdown",
   "id": "91bcd3ee",
   "metadata": {},
   "source": [
    "# Chapter 16: Multivariate statistics"
   ]
  },
  {
   "cell_type": "code",
   "execution_count": null,
   "id": "11fa826f",
   "metadata": {
    "Rmd_chunk_options": "setup, echo=FALSE, message=FALSE, warning=FALSE",
    "jupyter": {
     "output_hidden": false
    },
    "kernel": "R",
    "tags": [
     "report_output"
    ]
   },
   "outputs": [],
   "source": [
    "# import MASS first because it otherwise will mask dplyr::select\n",
    "library(MASS)\n",
    "\n",
    "library(tidyverse)\n",
    "library(ggdendro)\n",
    "library(psych)\n",
    "library(gplots)\n",
    "library(pdist)\n",
    "library(factoextra)\n",
    "library(viridis)\n",
    "library(mclust)\n",
    "library(knitr)\n",
    "theme_set(theme_minimal())"
   ]
  },
  {
   "cell_type": "markdown",
   "id": "bd01d5dd",
   "metadata": {},
   "source": [
    "## Multivariate data setup"
   ]
  },
  {
   "cell_type": "code",
   "execution_count": null,
   "id": "ee46c2c5",
   "metadata": {
    "Rmd_chunk_options": "DataPrep, echo=FALSE, message=FALSE",
    "jupyter": {
     "output_hidden": false
    },
    "kernel": "R",
    "tags": [
     "report_output"
    ]
   },
   "outputs": [],
   "source": [
    "behavdata <- read_csv('https://raw.githubusercontent.com/statsthinking21/statsthinking21-figures-data/main/Eisenberg/meaningful_variables.csv',\n",
    "                      show_col_types = FALSE)\n",
    "demoghealthdata <- read_csv('https://raw.githubusercontent.com/statsthinking21/statsthinking21-figures-data/main/Eisenberg/demographic_health.csv',\n",
    "                            show_col_types = FALSE)\n",
    "\n",
    "# recode Sex variable from 0/1 to Male/Female\n",
    "demoghealthdata <- demoghealthdata %>%\n",
    "  mutate(Sex = recode_factor(Sex, `0`=\"Male\", `1`=\"Female\"))\n",
    "\n",
    "# combine the data into a single data frame by subcode\n",
    "alldata <- merge(behavdata, demoghealthdata, by='subcode')\n",
    "\n",
    "rename_list = list('upps_impulsivity_survey' = 'UPPS', 'sensation_seeking_survey' = 'SSS',\n",
    "                   'dickman_survey' = 'Dickman',  'bis11_survey' = 'BIS11',\n",
    "                   'spatial_span' = 'spatial', 'digit_span' = 'digit',\n",
    "                   'adaptive_n_back' = 'nback', 'dospert_rt_survey' = 'dospert',\n",
    "                   'motor_selective_stop_signal.SSRT' = 'SSRT_motorsel',\n",
    "                   'stim_selective_stop_signal.SSRT' = 'SSRT_stimsel',\n",
    "                   'stop_signal.SSRT_low' = 'SSRT_low',\n",
    "                   'stop_signal.SSRT_high' = 'SSRT_high')\n",
    "\n",
    "impulsivity_variables = c('Sex')\n",
    "\n",
    "keep_variables <- c(\"spatial.forward_span\", \"spatial.reverse_span\", \"digit.forward_span\",\"digit.reverse_span\", \"nback.mean_load\")\n",
    "\n",
    "for (potential_match in names(alldata)){\n",
    "  for (n in names(rename_list)){\n",
    "    if (str_detect(potential_match, n)){\n",
    "      # print(sprintf('found match: %s %s', n, potential_match))\n",
    "      replacement_name <- str_replace(potential_match, n, toString(rename_list[n]))\n",
    "      names(alldata)[names(alldata) == potential_match] <- replacement_name\n",
    "      impulsivity_variables <- c(impulsivity_variables, replacement_name)\n",
    "    }\n",
    "  }\n",
    "}\n",
    "\n",
    "impulsivity_data <- alldata[,impulsivity_variables] %>%\n",
    "  drop_na()\n",
    "\n",
    "\n",
    "ssrtdata = alldata[,c('subcode', names(alldata)[grep('SSRT_', names(alldata))])] %>%\n",
    "  drop_na() %>%\n",
    "  dplyr::select(-stop_signal.proactive_SSRT_speeding)\n",
    "\n",
    "upps_data <- alldata %>%\n",
    "  dplyr::select(starts_with('UPPS'), 'subcode') %>%\n",
    "  setNames(gsub(\"UPPS.\", \"\", names(.)))\n",
    "\n",
    "impdata <- inner_join(ssrtdata, upps_data) %>%\n",
    "  drop_na() %>%\n",
    "  dplyr::select(-subcode) %>%\n",
    "  scale() %>%\n",
    "  as.data.frame() %>%\n",
    "  dplyr::rename(SSRT_motor = SSRT_motorsel,\n",
    "                SSRT_stim = SSRT_stimsel,\n",
    "                UPPS_pers = lack_of_perseverance,\n",
    "                UPPS_premed = lack_of_premeditation,\n",
    "                UPPS_negurg = negative_urgency,\n",
    "                UPPS_posurg = positive_urgency,\n",
    "                UPPS_senseek = sensation_seeking\n",
    "                )"
   ]
  },
  {
   "cell_type": "markdown",
   "id": "3a6a7d23",
   "metadata": {},
   "source": [
    "## Figure 16.1"
   ]
  },
  {
   "cell_type": "code",
   "execution_count": null,
   "id": "46b7a96a",
   "metadata": {
    "Rmd_chunk_options": "pairpanel, echo=FALSE, fig.width=8, fig.height=8, fig.cap='Scatterplot of matrices for the nine variables in the self-control dataset.  The diagonal elements in the matrix show the histogram for each of the individual variables.  The lower left panels show scatterplots of the relationship between each pair of variables, and the upper right panel shows the correlation coefficient for each pair of variables.'",
    "jupyter": {
     "output_hidden": false
    },
    "kernel": "R",
    "tags": [
     "report_output"
    ]
   },
   "outputs": [],
   "source": [
    "pairs.panels(impdata, lm=TRUE)"
   ]
  },
  {
   "cell_type": "markdown",
   "id": "edca2749",
   "metadata": {},
   "source": [
    "## Figure 16.2"
   ]
  },
  {
   "cell_type": "code",
   "execution_count": null,
   "id": "67a8c65a",
   "metadata": {
    "Rmd_chunk_options": "hmap, echo=FALSE, fig.width=8, fig.height=8, fig.cap='Heatmap of the correlation matrix for the nine self-control variables.  The brighter yellow areas in the top left and bottom right highlight the higher correlations within the two subsets of variables.'",
    "jupyter": {
     "output_hidden": false
    },
    "kernel": "R",
    "tags": [
     "report_output"
    ]
   },
   "outputs": [],
   "source": [
    "cc = cor(impdata)\n",
    "par(mai=c(2, 1, 1, 1)+0.1)\n",
    "\n",
    "heatmap.2(cc, trace='none', dendrogram='none',\n",
    "          cellnote=round(cc, 2), notecol='black', key=FALSE,\n",
    "          margins=c(12,8), srtCol=45, symm=TRUE, revC=TRUE, #notecex=4,\n",
    "          cexRow=1, cexCol=1, offsetRow=-150, col=viridis(50))"
   ]
  },
  {
   "cell_type": "markdown",
   "id": "9d92a33b-90f2-4717-aa9c-1af8e34660b9",
   "metadata": {},
   "source": [
    "## Figure 16.3"
   ]
  },
  {
   "cell_type": "code",
   "execution_count": null,
   "id": "2cf2f8cd-483a-4028-bae7-c038a1b7f28d",
   "metadata": {
    "Rmd_chunk_options": "parceldata, echo=FALSE, message=FALSE, warning=FALSE",
    "jupyter": {
     "output_hidden": false
    },
    "kernel": "R",
    "tags": [
     "report_output"
    ]
   },
   "outputs": [],
   "source": [
    "ccmtx = read_delim('https://raw.githubusercontent.com/statsthinking21/statsthinking21-figures-data/main/myconnectome/ccmtx_sorted.txt', col_names=FALSE,show_col_types = FALSE)\n",
    "\n",
    "parcel_data = read_delim('https://raw.githubusercontent.com/statsthinking21/statsthinking21-figures-data/main/myconnectome/parcel_data.txt', col_names = FALSE,show_col_types = FALSE) %>% dplyr::select(-X1)\n",
    "names(parcel_data) = c('hemis', 'X', 'Y', 'Z', 'lobe',\n",
    "                         'region', 'network', 'yeo7network', 'yeo17network')\n",
    "parcel_data <- parcel_data %>%\n",
    "  arrange(hemis, yeo7network)\n",
    "parcel_data$netdiff = FALSE\n",
    "parcel_data$netdiff[2:nrow(parcel_data)] =       parcel_data$yeo7network[2:nrow(parcel_data)] != parcel_data$yeo7network[1:(nrow(parcel_data) - 1)]\n",
    "\n",
    "hemis_to_use = 'L'\n",
    "\n",
    "tmp <- ccmtx[parcel_data$hemis == hemis_to_use,]\n",
    "ccmtx_lh <- tmp[, parcel_data$hemis == hemis_to_use]\n",
    "hemis_parcel_data = parcel_data %>%\n",
    "  filter(hemis == hemis_to_use)\n",
    "\n",
    "heatmap.2(as.matrix(ccmtx_lh), trace='none', symm=T,\n",
    "          dendrogram='none', col=viridis(50), Rowv=FALSE, Colv=FALSE,\n",
    "          labCol = \"\", labRow=\"\", key=FALSE)"
   ]
  },
  {
   "cell_type": "markdown",
   "id": "056866fb",
   "metadata": {},
   "source": [
    "## Figure 16.4"
   ]
  },
  {
   "cell_type": "code",
   "execution_count": null,
   "id": "c1c407ff",
   "metadata": {
    "Rmd_chunk_options": "eucdist, echo=FALSE, fig.height=4, fig.width=4, fig.cap='A depiction of the Euclidean distance between two points, (1,2) and (4,3).  The two points differ by 3 along the X axis and by 1 along the Y axis.'",
    "jupyter": {
     "output_hidden": false
    },
    "kernel": "R",
    "tags": [
     "report_output"
    ]
   },
   "outputs": [],
   "source": [
    "euc_df <- data.frame(x=c(1, 4), y=c(2, 3))\n",
    "ggplot(euc_df, aes(x,y)) + geom_point() +\n",
    "  xlim(0, 5) + ylim(0, 4) +\n",
    "  annotate('segment', x=1, y=2, xend=4, yend=3, linetype='dotted')"
   ]
  },
  {
   "cell_type": "markdown",
   "id": "371222f9",
   "metadata": {},
   "source": [
    "## Figure 16.5"
   ]
  },
  {
   "cell_type": "code",
   "execution_count": null,
   "id": "de1659ea-9fa4-4f77-8bd2-d9c71fbfea44",
   "metadata": {
    "Rmd_chunk_options": "kmeans, echo=FALSE, message=FALSE, warning=FALSE, fig.width=8, fig.height=4, fig.cap='A two-dimensional depiction of clustering on the latitude and longitude of countries across the world.  The square black symbols show the starting centroids for each cluster, and the lines show the movement of the centroid for that cluster across the iterations of the algorithm, which are presented with larger colored points.'",
    "jupyter": {
     "output_hidden": false
    },
    "kernel": "R",
    "tags": [
     "report_output"
    ]
   },
   "outputs": [],
   "source": [
    "countries <- read_delim('https://raw.githubusercontent.com/statsthinking21/statsthinking21-figures-data/main/countries/country_data.csv', na=c('')) %>%\n",
    "  # filter out countries with less than 1M population\n",
    "  filter(Population2020 > 500000)\n",
    "\n",
    "latlong <- countries %>%\n",
    "  dplyr::select(latitude, longitude)\n",
    "\n",
    "#ggplot(countries, aes(longitude, latitude, color=Continent)) +\n",
    "#  geom_point()\n",
    "\n",
    "# based on https://stanford.edu/~cpiech/cs221/handouts/kmeans.html\n",
    "# need to clarify license!\n",
    "# and https://jakevdp.github.io/PythonDataScienceHandbook/05.11-k-means.html\n",
    "# (Code under MIT license)\n",
    "\n",
    "k = 6\n",
    "set.seed(123456)\n",
    "# select random starting points as the means - i.e. Forgy method\n",
    "\n",
    "centroids = latlong[sample.int(nrow(latlong), k),]\n",
    "\n",
    "\n",
    "iterations = 0\n",
    "oldCentroids = data.frame()\n",
    "\n",
    "MAX_ITERATIONS <- 100\n",
    "\n",
    "\n",
    "shouldStop <- function(oldCentroids, centroids, iterations){\n",
    "    if (iterations > MAX_ITERATIONS){\n",
    "      return(TRUE)\n",
    "    }\n",
    "    if (dim(oldCentroids)[1] == 0){\n",
    "      return(FALSE)\n",
    "    }\n",
    "    return(all.equal(as.matrix(centroids), as.matrix(oldCentroids)) == TRUE)\n",
    "}\n",
    "\n",
    "\n",
    "getLabels <- function(dataSet, centroids){\n",
    "    d <- as.matrix(pdist::pdist(dataSet, centroids))\n",
    "\n",
    "    # For each element in the dataset, chose the closest centroid.\n",
    "    # Make that centroid the element's label.\n",
    "    return(apply(d, 1, which.min))\n",
    "}\n",
    "\n",
    "\n",
    "getCentroids <- function(dataSet, labels, k){\n",
    "    # Each centroid is the geometric mean of the points that\n",
    "    # have that centroid's label. Important: If a centroid is empty (no points have\n",
    "    # that centroid's label) you should randomly re-initialize it.\n",
    "    newCentroids <- NULL\n",
    "    for (i in 1:k){\n",
    "      labeldata <- dataSet[labels==i,]\n",
    "      newCentroids <- rbind(newCentroids, apply(labeldata, 2, mean))\n",
    "    }\n",
    "    return(newCentroids)\n",
    "}\n",
    "\n",
    "all_centroids_df = data.frame(centroids) %>%\n",
    "  mutate(label_kmeans=as.factor(seq(1,nrow(.))),\n",
    "         iter=0)\n",
    "\n",
    "\n",
    "while (!shouldStop(oldCentroids, centroids, iterations)) {\n",
    "          # Save old centroids for convergence test. Book keeping.\n",
    "        oldCentroids = centroids\n",
    "        iterations = iterations + 1\n",
    "        # Assign labels to each datapoint based on centroids\n",
    "        labels = getLabels(latlong, centroids)\n",
    "\n",
    "        # Assign centroids based on datapoint labels\n",
    "        centroids = getCentroids(latlong, labels, k)\n",
    "        centroids_df = data.frame(centroids) %>%\n",
    "          mutate(label_kmeans=as.factor(seq(1,nrow(.))),\n",
    "                 iter=iterations)\n",
    "        all_centroids_df = rbind(all_centroids_df, centroids_df)\n",
    "}\n",
    "#sprintf('Completed after %d iterations', iterations)\n",
    "\n",
    "countries <- countries %>%\n",
    "  mutate(label_kmeans = as.factor(labels))\n",
    "\n",
    "centroid_df = all_centroids_df %>%\n",
    "  filter(iter==iterations)\n",
    "\n",
    "p = ggplot(countries, aes(longitude, latitude, color=label_kmeans)) +\n",
    "  geom_point() +\n",
    "  geom_point(data=centroid_df,alpha=0.5, size=4)\n",
    "\n",
    "for (i in 1:iterations){\n",
    "  for (j in 1:k){\n",
    "    iter_df = all_centroids_df %>% filter(iter==i, label_kmeans==j)\n",
    "    prev_df = all_centroids_df %>% filter(iter==i-1, label_kmeans==j)\n",
    "    p = p +  annotate('segment', x = iter_df$longitude,\n",
    "                              y = iter_df$latitude,\n",
    "                              xend = prev_df$longitude,\n",
    "                              yend = prev_df$latitude, alpha=0.7)\n",
    "  }\n",
    "}\n",
    "\n",
    "p + geom_point(data=all_centroids_df %>% filter(iter==0),\n",
    "               size=2, shape=15, color='black')"
   ]
  },
  {
   "cell_type": "markdown",
   "id": "aea80cf5",
   "metadata": {},
   "source": [
    "## Table 16.1"
   ]
  },
  {
   "cell_type": "code",
   "execution_count": null,
   "id": "42bb2ce9",
   "metadata": {
    "Rmd_chunk_options": "contLabels, echo=FALSE",
    "jupyter": {
     "output_hidden": false
    },
    "kernel": "R",
    "tags": [
     "report_output"
    ]
   },
   "outputs": [],
   "source": [
    "t = table(labels, countries$Continent)\n",
    "t_df = pivot_wider(as.data.frame(t), id_cols=labels, names_from=Var2, values_from=Freq) %>%\n",
    "  rename(Africa = AF,\n",
    "         Europe = EU,\n",
    "         `North America` = `NA`,\n",
    "         Asia = AS,\n",
    "         Oceania = OC,\n",
    "         `South America` = SA)\n",
    "kable(t_df, caption='Comparison of k-means clustering result to actual continents.')"
   ]
  },
  {
   "cell_type": "markdown",
   "id": "bbdcb771-df41-453c-81e0-9f60c16b9a39",
   "metadata": {},
   "source": [
    "## Figure 16.6"
   ]
  },
  {
   "cell_type": "code",
   "execution_count": null,
   "id": "16751909",
   "metadata": {
    "Rmd_chunk_options": "kmeansSro, fig.width=6, fig.height=6, echo=FALSE, fig.cap='A visualization of the clustering results from 10 runs of the K-means clustering algorithm with K=3. Each row in the figure represents a different run of the clustering algorithm (with different random starting points), and variables sharing the same color are members of the same cluster. The numbers to the right represent the run numbers for each result.'",
    "jupyter": {
     "output_hidden": false
    },
    "kernel": "R",
    "tags": [
     "report_output"
    ]
   },
   "outputs": [],
   "source": [
    "set.seed(123)\n",
    "cluster_results = c()\n",
    "for (i in 1:10){\n",
    "  km.result = kmeans(t(impdata), 3)\n",
    "  cluster_results = rbind(cluster_results, km.result$cluster)\n",
    "  # relabel so that cluster nums match when solution is identical\n",
    "  for (j in 1:(i-1)){\n",
    "    if (j>0 && adjustedRandIndex(cluster_results[i, ], cluster_results[j, ]) == 1){\n",
    "      cluster_results[i, ] = cluster_results[j, ]\n",
    "      break\n",
    "    }\n",
    "  }\n",
    "}\n",
    "\n",
    "heatmap.2(cluster_results, dendrogram='none', trace='none',\n",
    "          col=rainbow(3, start=0.1, alpha=0.5), notecol='black',\n",
    "          cellnote=cluster_results, notecex=1, key=FALSE,\n",
    "           margins=c(12,8), srtCol=45, )"
   ]
  },
  {
   "cell_type": "markdown",
   "id": "0977d61f",
   "metadata": {},
   "source": [
    "## Figure 16.7"
   ]
  },
  {
   "cell_type": "code",
   "execution_count": null,
   "id": "ca3d9c7e",
   "metadata": {
    "Rmd_chunk_options": "dendro, echo=FALSE, message=FALSE, warning=FALSE, fig.cap='A dendrogram depicting the relative similarity of the nine self-control variables.  The three colored vertical lines represent three different cutoffs, resulting in either two (blue line), three (green line), or four (red line) clusters.'",
    "jupyter": {
     "output_hidden": false
    },
    "kernel": "R",
    "tags": [
     "report_output"
    ]
   },
   "outputs": [],
   "source": [
    "d <- dist(t(impdata))\n",
    "\n",
    "hc <- hclust(d, method='average')\n",
    "\n",
    "\n",
    "#convert cluster object to use with ggplot\n",
    "dendr <- dendro_data(hc, type=\"rectangle\")\n",
    "\n",
    "# TODO: https://stackoverflow.com/questions/21474388/colorize-clusters-in-dendogram-with-ggplot2\n",
    "\n",
    "cutoffs = c(25, 20, 19)\n",
    "\n",
    "#your own labels (now rownames) are supplied in geom_text() and label=label\n",
    "ggplot() +\n",
    "  geom_segment(data=segment(dendr), aes(x=x, y=y, xend=xend, yend=yend)) +\n",
    "  geom_text(data=label(dendr), aes(x=x, y=y,label=dendr$labels$label, hjust=0), size=3) +\n",
    "  coord_flip() + scale_y_reverse(expand=c(0.2, 0)) +\n",
    "  theme(axis.line.y=element_blank(),\n",
    "        axis.ticks.y=element_blank(),\n",
    "        axis.text.y=element_blank(),\n",
    "        axis.title.y=element_blank(),\n",
    "        panel.background=element_rect(fill=\"white\"),\n",
    "        panel.grid=element_blank()) +\n",
    "   geom_hline(yintercept=cutoffs[1], color='blue') +\n",
    "   geom_hline(yintercept=cutoffs[2], color='green') +\n",
    "   geom_hline(yintercept=cutoffs[3], color='red') +\n",
    "   ylim(30, -10)"
   ]
  },
  {
   "cell_type": "markdown",
   "id": "78c8bed8",
   "metadata": {},
   "source": [
    "## Figure 16.8"
   ]
  },
  {
   "cell_type": "code",
   "execution_count": null,
   "id": "12e43fe5-38fd-4722-a933-6374de447672",
   "metadata": {
    "Rmd_chunk_options": "pcaPlot, echo=FALSE, fig.width=4, fig.height=4, message=F, warning=F, fig.cap='A plot of synthetic data, with the first principal component plotted in green and the second in red.'",
    "jupyter": {
     "output_hidden": false
    },
    "kernel": "R",
    "tags": [
     "report_output"
    ]
   },
   "outputs": [],
   "source": [
    "N <-30                           #setting my sample size\n",
    "mu <- c(0, 0)                      #setting the means\n",
    "c1 <- .7\n",
    "\n",
    "sigma <- matrix(c(1, c1, c1, 1),2, 2)  #setting the covariance matrix values. The \"2,2\" part at the tail end defines the number of rows and columns in the matrix\n",
    "\n",
    "set.seed(04182019)  #setting the seed value so I can reproduce this exact sim later if need be\n",
    "simdata <- mvrnorm(n=N,mu=mu,Sigma=sigma, empirical=TRUE)  #simulate the data, as specified above\n",
    "\n",
    "sim_df <- data.frame(simdata)\n",
    "names(sim_df) <- c(\"Y\", \"X\")\n",
    "\n",
    "# ggplot(sim_df, aes(X, Y)) +\n",
    "#    geom_point() +\n",
    "#   xlim(-3, 3) +\n",
    "#   ylim(-3, 3) +\n",
    "#   geom_smooth(method='lm', se=FALSE)\n",
    "\n",
    "# scale variables\n",
    "\n",
    "sim_df <- sim_df %>%\n",
    "  mutate(X = scale(X),\n",
    "         Y = scale(Y))\n",
    "\n",
    "# compute covariance matrix\n",
    "\n",
    "\n",
    "sim_df_cov<- cov(sim_df)\n",
    "\n",
    "# Compute eigenvalues/eigenvectors\n",
    "\n",
    "\n",
    "cov_eig <- eigen(sim_df_cov)\n",
    "\n",
    "g <- ggplot(sim_df, aes(X, Y)) +\n",
    "   geom_point(size=1.5) +\n",
    "  xlim(-3, 3) +\n",
    "  ylim(-3, 3)\n",
    "\n",
    "# based on https://stats.stackexchange.com/questions/153564/visualizing-pca-in-r-data-points-eigenvectors-projections-confidence-ellipse\n",
    "\n",
    "# calculate slopes as ratios\n",
    "cov_eig$slopes[1] <- cov_eig$vectors[1,1]/cov_eig$vectors[2,1]\n",
    "cov_eig$slopes[2] <- cov_eig$vectors[1, 2]/cov_eig$vectors[2,2]\n",
    "\n",
    "g <- g + geom_segment(x = 0, y = 0,\n",
    "                      xend = cov_eig$values[1],\n",
    "                      yend = cov_eig$slopes[1] * cov_eig$values[1],\n",
    "                      colour = \"green\", linewidth=1.5,\n",
    "                      arrow = arrow(length = unit(0.2, \"cm\")))  # add arrow for pc1\n",
    "g <- g + geom_segment(x = 0, y = 0,\n",
    "                      xend = cov_eig$values[2],\n",
    "                      yend = cov_eig$slopes[2] * cov_eig$values[2],\n",
    "                      colour = \"red\", linewidth=1.5,\n",
    "                      arrow = arrow(length = unit(0.2, \"cm\")))  # add arrow for pc2\n",
    "\n",
    "g"
   ]
  },
  {
   "cell_type": "markdown",
   "id": "5e73c906",
   "metadata": {},
   "source": [
    "## Figure 16.9"
   ]
  },
  {
   "cell_type": "code",
   "execution_count": null,
   "id": "832d9374",
   "metadata": {
    "Rmd_chunk_options": "VAF, echo=F, fig.width=4, fig.height=4, fig.cap='A plot of the variance accounted for (or *scree plot*) for PCA applied separately to the response inhibition and impulsivity variables from the Eisenberg dataset.'",
    "kernel": "R",
    "tags": [
     "report_cell"
    ]
   },
   "outputs": [],
   "source": [
    "ssrtdata <- as.data.frame(impdata) %>% dplyr::select(starts_with('SSRT'))\n",
    "\n",
    "pca_result_ssrt <- prcomp(ssrtdata)\n",
    "pca_ssrt_varacct = summary(pca_result_ssrt)$importance[2,]\n",
    "\n",
    "ssrt_df = data.frame(dataset='SSRT', PC=seq(1, 4), VarianceAccountedFor=pca_ssrt_varacct)\n",
    "uppsdata <- as.data.frame(impdata) %>% dplyr::select(!starts_with('SSRT'))\n",
    "\n",
    "pca_result_upps <- prcomp(uppsdata)\n",
    "pca_upps_varacct = summary(pca_result_upps)$importance[2,]\n",
    "upps_df = data.frame(dataset='UPPS', PC=seq(1, 5), VarianceAccountedFor=pca_upps_varacct)\n",
    "\n",
    "\n",
    "var_df <- rbind(ssrt_df, upps_df)\n",
    "\n",
    "ggplot(var_df, aes(PC, VarianceAccountedFor, color=dataset)) +\n",
    "  geom_line(size=1.5)"
   ]
  },
  {
   "cell_type": "markdown",
   "id": "5d06ba94",
   "metadata": {},
   "source": [
    "## Correlation test for PCA components"
   ]
  },
  {
   "cell_type": "code",
   "execution_count": null,
   "id": "a06eb0e0-60ea-4df5-aa5c-81195d004246",
   "metadata": {
    "Rmd_chunk_options": "echo=FALSE",
    "jupyter": {
     "output_hidden": false
    },
    "kernel": "R",
    "tags": [
     "report_output"
    ]
   },
   "outputs": [],
   "source": [
    "pca_df <- data.frame(SSRT=predict(pca_result_ssrt)[, 'PC1'],\n",
    "                     UPPS=predict(pca_result_upps)[, 'PC1'])\n",
    "\n",
    "ct = cor.test(pca_df$SSRT, pca_df$UPPS)\n",
    "ct"
   ]
  },
  {
   "cell_type": "markdown",
   "id": "e858e582",
   "metadata": {},
   "source": [
    "##  Figure 16.10"
   ]
  },
  {
   "cell_type": "code",
   "execution_count": null,
   "id": "c72b29a9",
   "metadata": {
    "Rmd_chunk_options": "impPCscree, echo=FALSE, message=FALSE, fig.cap='Plot of variance accounted for by PCA components computed on the full set of self-control variables.'",
    "jupyter": {
     "output_hidden": false
    },
    "kernel": "R",
    "tags": [
     "report_output"
    ]
   },
   "outputs": [],
   "source": [
    "imp_pc = prcomp(impdata,  scale. = T)\n",
    "\n",
    "fviz_screeplot(imp_pc, addlabels = TRUE, ylim = c(0, 50))"
   ]
  },
  {
   "cell_type": "markdown",
   "id": "1920051c-c665-4c39-b92f-ab0df41851d6",
   "metadata": {},
   "source": [
    "## Figure 16.11"
   ]
  },
  {
   "cell_type": "code",
   "execution_count": null,
   "id": "11d20109",
   "metadata": {
    "Rmd_chunk_options": "pcaVarPlot, echo=FALSE, fig.width=4, fig.height=4, fig.cap='Plot of variable loadings in PCA solution including all self-control variables. Each variable is shown in terms of its loadings on each of the two components; reflected in the two rows respectively.'",
    "jupyter": {
     "output_hidden": false
    },
    "kernel": "R",
    "tags": [
     "report_output"
    ]
   },
   "outputs": [],
   "source": [
    "loading_df = as.data.frame(imp_pc$rotation)\n",
    "\n",
    "loading_df['Variable'] = rownames(loading_df)\n",
    "loading_df = loading_df %>%\n",
    "  pivot_longer(!Variable, names_to='PC', values_to='Loading') %>%\n",
    "  filter(PC %in% c('PC1', 'PC2'))\n",
    "\n",
    "ggplot(loading_df ,\n",
    "       aes(Variable, Loading)) + geom_bar(stat='identity')  +\n",
    "      theme(axis.text.x = element_text(angle = 45)) +\n",
    "      facet_grid(PC ~ .)"
   ]
  },
  {
   "cell_type": "markdown",
   "id": "ba16499c",
   "metadata": {},
   "source": [
    "## Figure 16.12"
   ]
  },
  {
   "cell_type": "code",
   "execution_count": null,
   "id": "27af6e73-d403-4ec5-89d8-6d4d4c7b121f",
   "metadata": {
    "Rmd_chunk_options": "echo=FALSE",
    "jupyter": {
     "output_hidden": false
    },
    "kernel": "R",
    "tags": [
     "report_output"
    ]
   },
   "outputs": [],
   "source": [
    "N <- 200                           #setting my sample size\n",
    "mu <- rep(0, 3)                     #setting the means\n",
    "c1 <- .5 # correlation b/w WM and FR\n",
    "\n",
    "sigma <- matrix(c(1, c1, 0, c1, 1, 0, 0, 0, 1), 3, 3)  #setting the covariance matrix values. The \"2,2\" part at the tail end defines the number of rows and columns in the matrix\n",
    "\n",
    "set.seed(04182019)  #setting the seed value so I can reproduce this exact sim later if need be\n",
    "simdata <- mvrnorm(n=N,mu=mu,Sigma=sigma, empirical=TRUE)  #simulate the data, as specified above\n",
    "\n",
    "latent_df <- data.frame(simdata)\n",
    "names(latent_df) = c('WM', 'FR', 'IMP')\n",
    "\n",
    "\n",
    "# create observed variables by matrix-multiplying the latent variables\n",
    "# by a weight matrix\n",
    "set.seed(123456)\n",
    "tasknames = c('nback', 'dspan', 'sspan', 'ravens', 'crt', 'UPPS', 'BIS11', 'dickman')\n",
    "ntasks = length(tasknames)\n",
    "weights = matrix(data = 0, 3, ntasks)\n",
    "weights[1, 1:3] = 1\n",
    "weights[2, 4:5] = 1\n",
    "weights[3, 6:8] = 1\n",
    "\n",
    "noise_sd = .6\n",
    "observed_vals = as.matrix(latent_df) %*% weights +\n",
    "  mvrnorm(n=N, mu=rep(0, ntasks), Sigma=diag(ntasks) * noise_sd)\n",
    "observed_df <- data.frame(observed_vals)\n",
    "names(observed_df) <- tasknames\n",
    "\n",
    "cormtx = t(cor(observed_df))\n",
    "\n",
    "heatmap.2(cormtx, trace='none', symm=TRUE,\n",
    "          revC=TRUE,col=viridis(50),\n",
    "          cellnote=round(cormtx, 2), notecol='black', key=FALSE,)"
   ]
  },
  {
   "cell_type": "markdown",
   "id": "7c49c0ec",
   "metadata": {},
   "source": [
    "## Factor analysis output"
   ]
  },
  {
   "cell_type": "code",
   "execution_count": null,
   "id": "c1a59c86",
   "metadata": {
    "Rmd_chunk_options": "fa_synthetic, echo=FALSE",
    "jupyter": {
     "output_hidden": false
    },
    "kernel": "R",
    "tags": [
     "report_output"
    ]
   },
   "outputs": [],
   "source": [
    "fa_result <- fa(observed_df, nfactors = 3)\n",
    "summary(fa_result)"
   ]
  },
  {
   "cell_type": "markdown",
   "id": "61aa4914",
   "metadata": {},
   "source": [
    "## Figure 16.13"
   ]
  },
  {
   "cell_type": "code",
   "execution_count": null,
   "id": "02b4e679",
   "metadata": {
    "Rmd_chunk_options": "faDiagram, echo=FALSE, fig.cap='Path diagram for the exploratory factor analysis model.'",
    "jupyter": {
     "output_hidden": false
    },
    "kernel": "R",
    "tags": [
     "report_output"
    ]
   },
   "outputs": [],
   "source": [
    "fa.diagram(fa_result)"
   ]
  },
  {
   "cell_type": "markdown",
   "id": "09633ed6",
   "metadata": {},
   "source": [
    "## Figure 16.14"
   ]
  },
  {
   "cell_type": "code",
   "execution_count": null,
   "id": "90209060",
   "metadata": {
    "Rmd_chunk_options": "sabicPlot, echo=FALSE, fig.width=4, fig.height=4, fig.cap='Plot of SABIC for varying numbers of factors.'",
    "jupyter": {
     "output_hidden": false
    },
    "kernel": "R",
    "tags": [
     "report_output"
    ]
   },
   "outputs": [],
   "source": [
    "BIC_results = data.frame(nfactors=seq(1, 4), SABIC=NA)\n",
    "\n",
    "for (i in 1:nrow(BIC_results)){\n",
    "  BIC_results$SABIC[i] = fa(observed_df, nfactors=BIC_results$nfactors[i])$SABIC\n",
    "}\n",
    "\n",
    "ggplot(BIC_results, aes(nfactors, SABIC)) + geom_line()"
   ]
  },
  {
   "cell_type": "markdown",
   "id": "457d2f20-92e8-47a1-8c2b-0e8075bce5f5",
   "metadata": {},
   "source": [
    "## Figure 16.15"
   ]
  },
  {
   "cell_type": "code",
   "execution_count": null,
   "id": "8e037684-1048-41e8-b967-ce7d3df93f54",
   "metadata": {
    "Rmd_chunk_options": "faDiagramSro, echo=FALSE, fig.cap='Path diagram for the three-factor model on the Eisenberg et al. data.'",
    "jupyter": {
     "output_hidden": false
    },
    "kernel": "R",
    "tags": [
     "report_output"
    ]
   },
   "outputs": [],
   "source": [
    "imp_efa_df <- behavdata %>%\n",
    "  dplyr::select(adaptive_n_back.mean_load,\n",
    "                bis11_survey.Nonplanning,\n",
    "                cognitive_reflection_survey.correct_proportion,\n",
    "                dickman_survey.dysfunctional,\n",
    "                digit_span.reverse_span,\n",
    "                ravens.score,\n",
    "                spatial_span.reverse_span,\n",
    "                upps_impulsivity_survey.lack_of_premeditation\n",
    "                ) %>%\n",
    "  rename(UPPS = upps_impulsivity_survey.lack_of_premeditation,\n",
    "         nback = adaptive_n_back.mean_load,\n",
    "         BIS11 = bis11_survey.Nonplanning,\n",
    "         dickman = dickman_survey.dysfunctional,\n",
    "         dspan = digit_span.reverse_span,\n",
    "         sspan = spatial_span.reverse_span,\n",
    "         crt = cognitive_reflection_survey.correct_proportion,\n",
    "         ravens = ravens.score\n",
    "         )\n",
    "\n",
    "BIC_df <- data.frame(nfactors = seq(1, 4), SABIC=NA)\n",
    "\n",
    "for (i in 1:nrow(BIC_df)){\n",
    "  fa_result <- fa(imp_efa_df, nfactors=BIC_df$nfactors[i])\n",
    "  BIC_df$SABIC[i] = fa_result$SABIC\n",
    "}\n",
    "\n",
    "#ggplot(BIC_df, aes(nfactors, SABIC)) +\n",
    "#  geom_line()\n",
    "\n",
    "fa_result <- fa(imp_efa_df, nfactors=3)\n",
    "\n",
    "#summary(fa_result)\n",
    "\n",
    "fa.diagram(fa_result)"
   ]
  }
 ],
 "metadata": {
  "Rmd_chunk_options": {
   "output": {
    "bookdown::gitbook": {
     "includes": {
      "in_header": "google_analytics.html"
     },
     "lib_dir": "book_assets"
    },
    "html_document": "default",
    "pdf_document": "default"
   }
  },
  "kernelspec": {
   "display_name": "R",
   "language": "R",
   "name": "ir"
  },
  "language_info": {
   "codemirror_mode": "r",
   "file_extension": ".r",
   "mimetype": "text/x-r-source",
   "name": "R",
   "pygments_lexer": "r",
   "version": "4.2.2"
  }
 },
 "nbformat": 4,
 "nbformat_minor": 5
}
